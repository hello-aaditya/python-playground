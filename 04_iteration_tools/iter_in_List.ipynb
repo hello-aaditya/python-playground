{
 "cells": [
  {
   "cell_type": "code",
   "execution_count": 1,
   "id": "1bad456d-b43e-45aa-8426-3fed3f7d50b6",
   "metadata": {},
   "outputs": [],
   "source": [
    "my_list = [1, 2, 3, 4]"
   ]
  },
  {
   "cell_type": "code",
   "execution_count": 2,
   "id": "fe6709bd-4709-4798-8d5a-73465710b2ea",
   "metadata": {},
   "outputs": [],
   "source": [
    "I = iter(my_list)"
   ]
  },
  {
   "cell_type": "code",
   "execution_count": 3,
   "id": "2bbb7b59-fb0f-4189-810b-3992edb19c6b",
   "metadata": {},
   "outputs": [
    {
     "name": "stdout",
     "output_type": "stream",
     "text": [
      "<list_iterator object at 0x00000121D78F8BE0>\n"
     ]
    }
   ],
   "source": [
    "print(I)"
   ]
  },
  {
   "cell_type": "code",
   "execution_count": 4,
   "id": "cca19480-ae3d-4fe5-9f38-3d2d8305e9b9",
   "metadata": {},
   "outputs": [
    {
     "data": {
      "text/plain": [
       "1"
      ]
     },
     "execution_count": 4,
     "metadata": {},
     "output_type": "execute_result"
    }
   ],
   "source": [
    "print(I.__next__())"
   ]
  },
  {
   "cell_type": "code",
   "execution_count": 5,
   "id": "231d488e-bf7e-416a-bfa7-2726482ea1c1",
   "metadata": {},
   "outputs": [
    {
     "data": {
      "text/plain": [
       "2"
      ]
     },
     "execution_count": 5,
     "metadata": {},
     "output_type": "execute_result"
    }
   ],
   "source": [
    "print(I.__next__())"
   ]
  },
  {
   "cell_type": "code",
   "execution_count": 12,
   "id": "d775be70-41dd-483b-85d5-67326d014d2d",
   "metadata": {},
   "outputs": [
    {
     "name": "stdout",
     "output_type": "stream",
     "text": [
      "3\n"
     ]
    }
   ],
   "source": [
    "print(I.__next__())"
   ]
  },
  {
   "cell_type": "code",
   "execution_count": 14,
   "id": "b717bb34-e15c-4223-a13e-20f758825c8b",
   "metadata": {},
   "outputs": [
    {
     "name": "stdout",
     "output_type": "stream",
     "text": [
      "4\n"
     ]
    }
   ],
   "source": [
    "print(I.__next__())"
   ]
  },
  {
   "cell_type": "code",
   "execution_count": 16,
   "id": "32d0a72a-b979-4381-b659-4314c64b5bbd",
   "metadata": {},
   "outputs": [
    {
     "ename": "StopIteration",
     "evalue": "",
     "output_type": "error",
     "traceback": [
      "\u001b[1;31m---------------------------------------------------------------------------\u001b[0m",
      "\u001b[1;31mStopIteration\u001b[0m                             Traceback (most recent call last)",
      "Cell \u001b[1;32mIn[16], line 1\u001b[0m\n\u001b[1;32m----> 1\u001b[0m \u001b[38;5;28mprint\u001b[39m(I\u001b[38;5;241m.\u001b[39m\u001b[38;5;21m__next__\u001b[39m())\n",
      "\u001b[1;31mStopIteration\u001b[0m: "
     ]
    }
   ],
   "source": [
    "print(I.__next__())"
   ]
  },
  {
   "cell_type": "markdown",
   "id": "ab21d7c3-1d7f-4062-9233-51a70415d74b",
   "metadata": {},
   "source": [
    "## Explanation\n",
    "\n",
    "#### 1. **Iterator Creation:** When you call iter(my_list), you create an iterator object from my_list. This iterator is capable of traversing the elements of the list one at a time.\n",
    "\n",
    "#### 2. **Iterator's Memory Address:** The string '<list_iterator at 0x223559f5570>' is a representation of the iterator object itself, not the list. The memory address (e.g., 0x223559f5570) is where the iterator object is stored in memory, not the list or its elements.\n",
    "\n",
    "#### 3. **Retrieving Elements:** When you call I.__next__(), you get the next element from the iterator. This element is fetched from the list, but the iterator itself keeps track of the current position in the list. The elements themselves are not stored in the iterator; the iterator just holds a reference to the list and an index to the current element.\n",
    "\n",
    "#### 4. **Memory Reference:** The memory reference (0x223559f5570) is for the iterator object, not the elements of the list. Each call to I.__next__() returns the next element in the list, not a memory reference. The elements themselves are returned directly."
   ]
  },
  {
   "cell_type": "markdown",
   "id": "16c375d2-fb42-485c-acf9-80eba5c34079",
   "metadata": {},
   "source": [
    "# work behind the file\n",
    "#### iter(f) is same as f = open('my_file.py')\n",
    "#### the working of varibale 'f' is same as iter(f)\n",
    "let's see the next example of a list"
   ]
  },
  {
   "cell_type": "code",
   "execution_count": 26,
   "id": "7cb8819a-c3b2-427c-ba3c-8be6f6328f5a",
   "metadata": {},
   "outputs": [
    {
     "data": {
      "text/plain": [
       "True"
      ]
     },
     "execution_count": 26,
     "metadata": {},
     "output_type": "execute_result"
    }
   ],
   "source": [
    "f = open('my_file.py')\n",
    "\n",
    "iter(f) is f"
   ]
  },
  {
   "cell_type": "code",
   "execution_count": 31,
   "id": "99abcccf-6983-4806-9b5e-d5788f1cec2b",
   "metadata": {},
   "outputs": [
    {
     "data": {
      "text/plain": [
       "False"
      ]
     },
     "execution_count": 31,
     "metadata": {},
     "output_type": "execute_result"
    }
   ],
   "source": [
    "my_list = [1, 2, 3, 4]\n",
    "iter(my_list) is my_list"
   ]
  },
  {
   "cell_type": "markdown",
   "id": "823ddea8-f948-4c03-87ac-7cd62e7bfff9",
   "metadata": {},
   "source": [
    "### for dictionary"
   ]
  },
  {
   "cell_type": "code",
   "execution_count": 40,
   "id": "2bccdcc5-3875-43cd-901d-2e8706db2ac7",
   "metadata": {},
   "outputs": [
    {
     "name": "stdout",
     "output_type": "stream",
     "text": [
      "a\n",
      "b\n"
     ]
    }
   ],
   "source": [
    "d = {'a' : '1', 'b' : '2'}\n",
    "for key in d.keys():\n",
    "    print(key)"
   ]
  },
  {
   "cell_type": "code",
   "execution_count": 42,
   "id": "76961379-2299-4228-bc2b-b45912660a25",
   "metadata": {},
   "outputs": [],
   "source": [
    "I = iter(d)"
   ]
  },
  {
   "cell_type": "code",
   "execution_count": 44,
   "id": "9a91e2b9-8339-424c-9cff-f39b9460b686",
   "metadata": {},
   "outputs": [
    {
     "name": "stdout",
     "output_type": "stream",
     "text": [
      "<dict_keyiterator object at 0x00000121DAC44B80>\n"
     ]
    }
   ],
   "source": [
    "print(I)"
   ]
  },
  {
   "cell_type": "code",
   "execution_count": 46,
   "id": "1f762ead-888d-4454-8eda-b1ada5b6fc27",
   "metadata": {},
   "outputs": [
    {
     "name": "stdout",
     "output_type": "stream",
     "text": [
      "a\n"
     ]
    }
   ],
   "source": [
    "print(next(I))"
   ]
  },
  {
   "cell_type": "code",
   "execution_count": 48,
   "id": "d8eeb046-bad8-4079-9095-c91f62ab9b85",
   "metadata": {},
   "outputs": [
    {
     "name": "stdout",
     "output_type": "stream",
     "text": [
      "b\n"
     ]
    }
   ],
   "source": [
    "print(next(I))"
   ]
  },
  {
   "cell_type": "code",
   "execution_count": 50,
   "id": "b6d5c2a3-cad8-48b3-b886-3bc484c22c1a",
   "metadata": {},
   "outputs": [
    {
     "ename": "StopIteration",
     "evalue": "",
     "output_type": "error",
     "traceback": [
      "\u001b[1;31m---------------------------------------------------------------------------\u001b[0m",
      "\u001b[1;31mStopIteration\u001b[0m                             Traceback (most recent call last)",
      "Cell \u001b[1;32mIn[50], line 1\u001b[0m\n\u001b[1;32m----> 1\u001b[0m \u001b[38;5;28mprint\u001b[39m(\u001b[38;5;28mnext\u001b[39m(I))\n",
      "\u001b[1;31mStopIteration\u001b[0m: "
     ]
    }
   ],
   "source": [
    "print(next(I))"
   ]
  },
  {
   "cell_type": "markdown",
   "id": "70a3948e-1037-4b64-b828-c0a771aeeb98",
   "metadata": {},
   "source": [
    "### for range"
   ]
  },
  {
   "cell_type": "code",
   "execution_count": 53,
   "id": "90ee0d64-02e5-446c-a71e-8a8e4fcffae6",
   "metadata": {},
   "outputs": [],
   "source": [
    "ref = range(0, 5)"
   ]
  },
  {
   "cell_type": "code",
   "execution_count": 55,
   "id": "f7864e3b-cd49-4a39-acff-ef3dc5eb99bb",
   "metadata": {},
   "outputs": [
    {
     "name": "stdout",
     "output_type": "stream",
     "text": [
      "range(0, 5)\n"
     ]
    }
   ],
   "source": [
    "print(ref)"
   ]
  },
  {
   "cell_type": "code",
   "execution_count": 57,
   "id": "0fc8fb92-d9d5-4a48-9777-593b4260f656",
   "metadata": {},
   "outputs": [],
   "source": [
    "I = iter(ref)"
   ]
  },
  {
   "cell_type": "code",
   "execution_count": 59,
   "id": "ddb52bb0-8c9b-4a5a-b133-1693ca0c3418",
   "metadata": {},
   "outputs": [
    {
     "name": "stdout",
     "output_type": "stream",
     "text": [
      "<range_iterator object at 0x00000121DAB71D50>\n"
     ]
    }
   ],
   "source": [
    "print(I)"
   ]
  },
  {
   "cell_type": "code",
   "execution_count": 63,
   "id": "d6cc7ca4-0b43-4dd3-b7f7-e92448ac0f7e",
   "metadata": {},
   "outputs": [
    {
     "data": {
      "text/plain": [
       "0"
      ]
     },
     "execution_count": 63,
     "metadata": {},
     "output_type": "execute_result"
    }
   ],
   "source": [
    "next(I)"
   ]
  },
  {
   "cell_type": "code",
   "execution_count": 65,
   "id": "9bc78c58-cce3-40d9-9af9-b0509628761e",
   "metadata": {},
   "outputs": [
    {
     "data": {
      "text/plain": [
       "1"
      ]
     },
     "execution_count": 65,
     "metadata": {},
     "output_type": "execute_result"
    }
   ],
   "source": [
    "next(I)"
   ]
  },
  {
   "cell_type": "code",
   "execution_count": 67,
   "id": "94346d47-444c-416a-a9dc-31ea570d3118",
   "metadata": {},
   "outputs": [
    {
     "data": {
      "text/plain": [
       "2"
      ]
     },
     "execution_count": 67,
     "metadata": {},
     "output_type": "execute_result"
    }
   ],
   "source": [
    "next(I)"
   ]
  },
  {
   "cell_type": "code",
   "execution_count": 69,
   "id": "490fb9c0-112c-4bbe-a18a-928e80ca805e",
   "metadata": {},
   "outputs": [
    {
     "data": {
      "text/plain": [
       "3"
      ]
     },
     "execution_count": 69,
     "metadata": {},
     "output_type": "execute_result"
    }
   ],
   "source": [
    "next(I)"
   ]
  },
  {
   "cell_type": "code",
   "execution_count": 71,
   "id": "1ed1d32a-b098-4813-8966-a5c9f266d883",
   "metadata": {},
   "outputs": [
    {
     "data": {
      "text/plain": [
       "4"
      ]
     },
     "execution_count": 71,
     "metadata": {},
     "output_type": "execute_result"
    }
   ],
   "source": [
    "next(I)"
   ]
  },
  {
   "cell_type": "code",
   "execution_count": 73,
   "id": "c7ed62c6-ee42-432e-8018-b954d398943b",
   "metadata": {},
   "outputs": [
    {
     "ename": "StopIteration",
     "evalue": "",
     "output_type": "error",
     "traceback": [
      "\u001b[1;31m---------------------------------------------------------------------------\u001b[0m",
      "\u001b[1;31mStopIteration\u001b[0m                             Traceback (most recent call last)",
      "Cell \u001b[1;32mIn[73], line 1\u001b[0m\n\u001b[1;32m----> 1\u001b[0m \u001b[38;5;28mnext\u001b[39m(I)\n",
      "\u001b[1;31mStopIteration\u001b[0m: "
     ]
    }
   ],
   "source": [
    "next(I)"
   ]
  },
  {
   "cell_type": "code",
   "execution_count": null,
   "id": "401479f1-1100-4e5a-a181-ae7afb284792",
   "metadata": {},
   "outputs": [],
   "source": []
  }
 ],
 "metadata": {
  "kernelspec": {
   "display_name": "Python 3 (ipykernel)",
   "language": "python",
   "name": "python3"
  },
  "language_info": {
   "codemirror_mode": {
    "name": "ipython",
    "version": 3
   },
   "file_extension": ".py",
   "mimetype": "text/x-python",
   "name": "python",
   "nbconvert_exporter": "python",
   "pygments_lexer": "ipython3",
   "version": "3.11.7"
  }
 },
 "nbformat": 4,
 "nbformat_minor": 5
}
