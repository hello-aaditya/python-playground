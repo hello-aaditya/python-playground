{
 "cells": [
  {
   "cell_type": "code",
   "execution_count": 1,
   "id": "1102e199-0a09-4a7f-aad3-56669f9779f0",
   "metadata": {},
   "outputs": [
    {
     "name": "stdout",
     "output_type": "stream",
     "text": [
      "Black Coffee\n"
     ]
    }
   ],
   "source": [
    "coffee = 'Black Coffee'\n",
    "print(coffee)"
   ]
  },
  {
   "cell_type": "code",
   "execution_count": 5,
   "id": "182b0068-a4b0-4e13-9fe3-861cc19c420c",
   "metadata": {},
   "outputs": [
    {
     "name": "stdout",
     "output_type": "stream",
     "text": [
      "B\n"
     ]
    }
   ],
   "source": [
    "first_char = coffee[0]\n",
    "print(first_char)"
   ]
  },
  {
   "cell_type": "markdown",
   "id": "85b36728-6352-4c4e-bb0f-10bdf986b9eb",
   "metadata": {},
   "source": [
    "### slicing of a string"
   ]
  },
  {
   "cell_type": "code",
   "execution_count": 11,
   "id": "979d7316-34da-4d5a-9f07-5b9a9e14e472",
   "metadata": {},
   "outputs": [
    {
     "name": "stdout",
     "output_type": "stream",
     "text": [
      "Black \n"
     ]
    }
   ],
   "source": [
    "slice_coffee = coffee[0:6]\n",
    "print(slice_coffee)"
   ]
  },
  {
   "cell_type": "markdown",
   "id": "c7f2baf6-8ab6-4f41-a3a9-8a9c811783b7",
   "metadata": {},
   "source": [
    "#### understanding of slicing in easy way"
   ]
  },
  {
   "cell_type": "code",
   "execution_count": 21,
   "id": "4863efac-1139-4f88-ad4f-8b0a4eb3cb1e",
   "metadata": {},
   "outputs": [],
   "source": [
    "num_list = \"0123456789\""
   ]
  },
  {
   "cell_type": "code",
   "execution_count": 23,
   "id": "19de3792-15cd-43b3-ab63-c67336329114",
   "metadata": {},
   "outputs": [
    {
     "data": {
      "text/plain": [
       "'0123456789'"
      ]
     },
     "execution_count": 23,
     "metadata": {},
     "output_type": "execute_result"
    }
   ],
   "source": [
    "num_list[:]"
   ]
  },
  {
   "cell_type": "code",
   "execution_count": 29,
   "id": "63e0496f-e455-4ffa-bfd0-48f7d2bbe249",
   "metadata": {},
   "outputs": [
    {
     "data": {
      "text/plain": [
       "'3456789'"
      ]
     },
     "execution_count": 29,
     "metadata": {},
     "output_type": "execute_result"
    }
   ],
   "source": [
    "num_list[3:]"
   ]
  },
  {
   "cell_type": "code",
   "execution_count": 35,
   "id": "49a64827-6f35-455b-b35f-1a48f972d7f9",
   "metadata": {},
   "outputs": [
    {
     "data": {
      "text/plain": [
       "'012'"
      ]
     },
     "execution_count": 35,
     "metadata": {},
     "output_type": "execute_result"
    }
   ],
   "source": [
    "num_list[:3]"
   ]
  },
  {
   "cell_type": "code",
   "execution_count": 41,
   "id": "47e25107-b103-4487-bb17-49b88ccff81e",
   "metadata": {},
   "outputs": [
    {
     "data": {
      "text/plain": [
       "'6789'"
      ]
     },
     "execution_count": 41,
     "metadata": {},
     "output_type": "execute_result"
    }
   ],
   "source": [
    "num_list[-4:]"
   ]
  },
  {
   "cell_type": "code",
   "execution_count": 43,
   "id": "0ab8bf83-561c-4d98-9d70-051dd9aa992b",
   "metadata": {},
   "outputs": [
    {
     "data": {
      "text/plain": [
       "'012345'"
      ]
     },
     "execution_count": 43,
     "metadata": {},
     "output_type": "execute_result"
    }
   ],
   "source": [
    "num_list[:-4]"
   ]
  },
  {
   "cell_type": "markdown",
   "id": "05f84217-6569-4dbf-9fd3-87376583dd03",
   "metadata": {},
   "source": [
    "#### structure of duoble colon in clicing -> [start:end:step]"
   ]
  },
  {
   "cell_type": "code",
   "execution_count": 47,
   "id": "e73bfb9f-d6d7-4de1-8220-acdc924e8c73",
   "metadata": {},
   "outputs": [
    {
     "data": {
      "text/plain": [
       "'0246'"
      ]
     },
     "execution_count": 47,
     "metadata": {},
     "output_type": "execute_result"
    }
   ],
   "source": [
    "num_list[0:7:2]"
   ]
  },
  {
   "cell_type": "markdown",
   "id": "dfee84d7-4d98-4906-9a5a-525c84962c5e",
   "metadata": {},
   "source": [
    "### lower case <-> upper case <-> camel case"
   ]
  },
  {
   "cell_type": "code",
   "execution_count": 53,
   "id": "a01c53d2-e73f-45d0-b6ae-854a50ba2dfa",
   "metadata": {},
   "outputs": [],
   "source": [
    "coffee = 'Black Coffee'"
   ]
  },
  {
   "cell_type": "code",
   "execution_count": 55,
   "id": "e2014157-863c-47a0-ae90-733d36033f88",
   "metadata": {},
   "outputs": [
    {
     "name": "stdout",
     "output_type": "stream",
     "text": [
      "black coffee\n"
     ]
    }
   ],
   "source": [
    "print(coffee.lower())"
   ]
  },
  {
   "cell_type": "code",
   "execution_count": 57,
   "id": "6314bcc0-2145-4aed-81c8-adb21acb64ed",
   "metadata": {},
   "outputs": [
    {
     "name": "stdout",
     "output_type": "stream",
     "text": [
      "BLACK COFFEE\n"
     ]
    }
   ],
   "source": [
    "print(coffee.upper())"
   ]
  },
  {
   "cell_type": "code",
   "execution_count": 63,
   "id": "5cc1e508-9e3b-4046-a777-1599ce6b5e5e",
   "metadata": {},
   "outputs": [
    {
     "name": "stdout",
     "output_type": "stream",
     "text": [
      "Black Coffee Is Awesome\n"
     ]
    }
   ],
   "source": [
    "coffee = 'black coffee is awesome'\n",
    "print(coffee.title())"
   ]
  },
  {
   "cell_type": "markdown",
   "id": "03563795-0b5d-41c5-8895-c19be5160820",
   "metadata": {},
   "source": [
    "### replace a word\n",
    "#### string_name.replace('target_word', 'new word')"
   ]
  },
  {
   "cell_type": "code",
   "execution_count": 65,
   "id": "e49f7065-59e6-4c35-8ae1-a30be1fbf19c",
   "metadata": {},
   "outputs": [
    {
     "name": "stdout",
     "output_type": "stream",
     "text": [
      "Black Coffee\n"
     ]
    }
   ],
   "source": [
    "coffee = 'Chocolate Coffee'\n",
    "print(coffee.replace('Chocolate', 'Black'))"
   ]
  },
  {
   "cell_type": "markdown",
   "id": "80740372-2ae5-4e39-8e66-3cf1f755fd0f",
   "metadata": {},
   "source": [
    "### Splitting by whitespace (default):"
   ]
  },
  {
   "cell_type": "code",
   "execution_count": 80,
   "id": "cb452aa9-c873-46f9-aa0d-60d7ea65e915",
   "metadata": {},
   "outputs": [
    {
     "name": "stdout",
     "output_type": "stream",
     "text": [
      "['Black', 'Coffee,', 'Milk', 'Coffee,', 'Cappuccino,', 'Dalgona', 'Coffee,', 'Turkish', 'Coffee']\n"
     ]
    }
   ],
   "source": [
    "coffee = 'Black Coffee, Milk Coffee, Cappuccino, Dalgona Coffee, Turkish Coffee'\n",
    "print(coffee.split())"
   ]
  },
  {
   "cell_type": "markdown",
   "id": "466b112d-75e4-49d6-bac5-a2811aa3eba8",
   "metadata": {},
   "source": [
    "### Splitting by a specific delimiter:"
   ]
  },
  {
   "cell_type": "code",
   "execution_count": 82,
   "id": "6240a03f-1994-48be-a936-f0dcd4351276",
   "metadata": {},
   "outputs": [
    {
     "name": "stdout",
     "output_type": "stream",
     "text": [
      "['Black Coffee', 'Milk Coffee', 'Cappuccino', 'Dalgona Coffee', 'Turkish Coffee']\n"
     ]
    }
   ],
   "source": [
    "coffee = 'Black Coffee, Milk Coffee, Cappuccino, Dalgona Coffee, Turkish Coffee'\n",
    "print(coffee.split(', '))"
   ]
  },
  {
   "cell_type": "markdown",
   "id": "381c4198-81c3-4b43-8601-75df0d8b4695",
   "metadata": {},
   "source": [
    "### .find()"
   ]
  },
  {
   "cell_type": "code",
   "execution_count": 88,
   "id": "fc8bd257-ee96-48e5-a50a-2eb5ff70bc2a",
   "metadata": {},
   "outputs": [],
   "source": [
    "coffee = 'Black Coffee is awesome'"
   ]
  },
  {
   "cell_type": "code",
   "execution_count": 91,
   "id": "1b5fe2ad-c005-4bea-8bf8-f2447000f6a1",
   "metadata": {},
   "outputs": [
    {
     "name": "stdout",
     "output_type": "stream",
     "text": [
      "13\n"
     ]
    }
   ],
   "source": [
    "print(coffee.find('is'))"
   ]
  },
  {
   "cell_type": "markdown",
   "id": "0b965fbb-2e9e-498b-a51a-88b4a0a90f45",
   "metadata": {},
   "source": [
    "### .count()"
   ]
  },
  {
   "cell_type": "code",
   "execution_count": 95,
   "id": "dfb4c177-2089-45dc-a0e7-f69b00709617",
   "metadata": {},
   "outputs": [],
   "source": [
    "coffee = 'Black Coffee Coffee Coffee is awesome'"
   ]
  },
  {
   "cell_type": "code",
   "execution_count": 105,
   "id": "fd3965f4-a547-4536-9832-4755db5cd4bf",
   "metadata": {},
   "outputs": [
    {
     "name": "stdout",
     "output_type": "stream",
     "text": [
      "3\n"
     ]
    }
   ],
   "source": [
    "print(coffee.count('Coffee'))"
   ]
  },
  {
   "cell_type": "code",
   "execution_count": 107,
   "id": "8b7fd23e-72c1-48ae-bfdf-48f40414bfdb",
   "metadata": {},
   "outputs": [
    {
     "name": "stdout",
     "output_type": "stream",
     "text": [
      "0\n"
     ]
    }
   ],
   "source": [
    "print(coffee.count('Milk'))"
   ]
  },
  {
   "cell_type": "code",
   "execution_count": 117,
   "id": "a55bdcae-1b1b-4365-a4e0-1ec3242e4824",
   "metadata": {},
   "outputs": [],
   "source": [
    "coffee_type = 'Black'\n",
    "quantity = 2"
   ]
  },
  {
   "cell_type": "code",
   "execution_count": 125,
   "id": "d88301a6-1a7a-4c5e-a28f-1e94054cc16a",
   "metadata": {},
   "outputs": [],
   "source": [
    "order = 'i ordered {} cups of {} coffee'"
   ]
  },
  {
   "cell_type": "code",
   "execution_count": 127,
   "id": "96b58bd2-5e77-4141-aff2-d61e7dfd3d17",
   "metadata": {},
   "outputs": [
    {
     "name": "stdout",
     "output_type": "stream",
     "text": [
      "i ordered {} cups of {} coffee\n"
     ]
    }
   ],
   "source": [
    "print(order)"
   ]
  },
  {
   "cell_type": "code",
   "execution_count": 129,
   "id": "3e09a504-14b7-43ad-9b91-d01a95032482",
   "metadata": {},
   "outputs": [
    {
     "name": "stdout",
     "output_type": "stream",
     "text": [
      "i ordered 2 cups of Black coffee\n"
     ]
    }
   ],
   "source": [
    "print(order.format(quantity, coffee_type))"
   ]
  },
  {
   "cell_type": "markdown",
   "id": "b56f1c08-5da2-4fa5-9964-f06f7962e8f1",
   "metadata": {},
   "source": [
    "### list to string"
   ]
  },
  {
   "cell_type": "code",
   "execution_count": 131,
   "id": "ae0021a0-e73e-4b42-84f9-4b4e7ba2803b",
   "metadata": {},
   "outputs": [],
   "source": [
    "coffee_variety = ['Black Coffee', 'Milk Coffee', 'Cappucino', 'Chocolate Coffee', 'Turkish Coffee', 'Dalgona']"
   ]
  },
  {
   "cell_type": "code",
   "execution_count": 133,
   "id": "dba9ef13-f1f2-4b7a-8dd1-dab11c12fd0f",
   "metadata": {},
   "outputs": [
    {
     "name": "stdout",
     "output_type": "stream",
     "text": [
      "Black Coffee Milk Coffee Cappucino Chocolate Coffee Turkish Coffee Dalgona\n"
     ]
    }
   ],
   "source": [
    "print(' '.join(coffee_variety))"
   ]
  },
  {
   "cell_type": "markdown",
   "id": "cc65c26d-4bf6-428d-aaab-cc4e7a47333b",
   "metadata": {},
   "source": [
    "### length of a string"
   ]
  },
  {
   "cell_type": "code",
   "execution_count": 137,
   "id": "a8e5551e-8290-4d45-86ea-520661218094",
   "metadata": {},
   "outputs": [
    {
     "name": "stdout",
     "output_type": "stream",
     "text": [
      "12\n"
     ]
    }
   ],
   "source": [
    "coffee = 'Black Coffee'\n",
    "print(len(coffee))"
   ]
  },
  {
   "cell_type": "markdown",
   "id": "d629cba3-c759-4b19-941c-971278fd86c2",
   "metadata": {},
   "source": [
    "### for loop in string"
   ]
  },
  {
   "cell_type": "code",
   "execution_count": 140,
   "id": "4cc45438-471d-4adc-bb7b-d53d9584cffe",
   "metadata": {},
   "outputs": [
    {
     "name": "stdout",
     "output_type": "stream",
     "text": [
      "B\n",
      "l\n",
      "a\n",
      "c\n",
      "k\n",
      " \n",
      "C\n",
      "o\n",
      "f\n",
      "f\n",
      "e\n",
      "e\n"
     ]
    }
   ],
   "source": [
    "coffee = 'Black Coffee'\n",
    "for letter in coffee:\n",
    "    print(letter)"
   ]
  },
  {
   "cell_type": "markdown",
   "id": "3f7d4d39-b2da-4f2e-b608-41f5618aa6b7",
   "metadata": {},
   "source": [
    "### To include double quotes inside a string that is enclosed by double quotes, you need to escape the inner double quotes with a backslash \\."
   ]
  },
  {
   "cell_type": "code",
   "execution_count": 146,
   "id": "8b665c8d-275f-4b75-b7da-806bc6f74366",
   "metadata": {},
   "outputs": [
    {
     "ename": "SyntaxError",
     "evalue": "invalid syntax (1496758230.py, line 1)",
     "output_type": "error",
     "traceback": [
      "\u001b[1;36m  Cell \u001b[1;32mIn[146], line 1\u001b[1;36m\u001b[0m\n\u001b[1;33m    coffee = \"He said, \"Black Coffee is awesome\"\"\u001b[0m\n\u001b[1;37m                        ^\u001b[0m\n\u001b[1;31mSyntaxError\u001b[0m\u001b[1;31m:\u001b[0m invalid syntax\n"
     ]
    }
   ],
   "source": [
    "coffee = \"He said, \"Black Coffee is awesome\"\""
   ]
  },
  {
   "cell_type": "code",
   "execution_count": 152,
   "id": "a385e993-7d33-47c4-94f4-e7fbab446b44",
   "metadata": {},
   "outputs": [],
   "source": [
    "coffee = \"He said, \\\"Black Coffee is awesome\\\"\""
   ]
  },
  {
   "cell_type": "code",
   "execution_count": 154,
   "id": "8f7196cd-5606-4858-b065-0c909f923059",
   "metadata": {},
   "outputs": [
    {
     "name": "stdout",
     "output_type": "stream",
     "text": [
      "He said, \"Black Coffee is awesome\"\n"
     ]
    }
   ],
   "source": [
    "print(coffee)"
   ]
  },
  {
   "cell_type": "code",
   "execution_count": 156,
   "id": "031d2b7c-5411-4b4e-9c72-9ef2c3cfe031",
   "metadata": {},
   "outputs": [
    {
     "name": "stdout",
     "output_type": "stream",
     "text": [
      "Black\n",
      "coffee\n"
     ]
    }
   ],
   "source": [
    "coffee = 'Black\\ncoffee'\n",
    "print(coffee)"
   ]
  },
  {
   "cell_type": "markdown",
   "id": "eef7dede-8ce4-4e6f-b3b8-a57cfac59f39",
   "metadata": {},
   "source": [
    "### use of raw string"
   ]
  },
  {
   "cell_type": "code",
   "execution_count": 158,
   "id": "af3feabe-01a4-4278-bc4d-3bcff32e6053",
   "metadata": {},
   "outputs": [
    {
     "name": "stdout",
     "output_type": "stream",
     "text": [
      "Black\\ncoffee\n"
     ]
    }
   ],
   "source": [
    "coffee = r'Black\\ncoffee'\n",
    "print(coffee)"
   ]
  },
  {
   "cell_type": "code",
   "execution_count": 160,
   "id": "581e7f11-38e0-47be-80a9-5189b5bd15c9",
   "metadata": {},
   "outputs": [
    {
     "ename": "SyntaxError",
     "evalue": "(unicode error) 'unicodeescape' codec can't decode bytes in position 2-3: truncated \\uXXXX escape (1156109166.py, line 1)",
     "output_type": "error",
     "traceback": [
      "\u001b[1;36m  Cell \u001b[1;32mIn[160], line 1\u001b[1;36m\u001b[0m\n\u001b[1;33m    path = 'c:\\username\\public'\u001b[0m\n\u001b[1;37m                               ^\u001b[0m\n\u001b[1;31mSyntaxError\u001b[0m\u001b[1;31m:\u001b[0m (unicode error) 'unicodeescape' codec can't decode bytes in position 2-3: truncated \\uXXXX escape\n"
     ]
    }
   ],
   "source": [
    "path = 'c:\\username\\public'\n",
    "print(path)"
   ]
  },
  {
   "cell_type": "code",
   "execution_count": 162,
   "id": "a385b8f6-c8e1-4bef-97d3-744569f925ca",
   "metadata": {},
   "outputs": [
    {
     "name": "stdout",
     "output_type": "stream",
     "text": [
      "c:\\username\\public\n"
     ]
    }
   ],
   "source": [
    "path = r'c:\\username\\public'\n",
    "print(path)"
   ]
  },
  {
   "cell_type": "markdown",
   "id": "8229d92f-2472-4a95-9009-7331bc643a92",
   "metadata": {},
   "source": [
    "### is the substring present in the given string ?"
   ]
  },
  {
   "cell_type": "code",
   "execution_count": 166,
   "id": "fdf2aa3a-d29f-4b39-b09f-5b495fdf6e9b",
   "metadata": {},
   "outputs": [
    {
     "data": {
      "text/plain": [
       "True"
      ]
     },
     "execution_count": 166,
     "metadata": {},
     "output_type": "execute_result"
    }
   ],
   "source": [
    "coffee = 'Black coffee'\n",
    "'Black' in coffee"
   ]
  },
  {
   "cell_type": "code",
   "execution_count": 168,
   "id": "55d6afd5-dabf-43cb-b28d-bdab918053d9",
   "metadata": {},
   "outputs": [
    {
     "data": {
      "text/plain": [
       "False"
      ]
     },
     "execution_count": 168,
     "metadata": {},
     "output_type": "execute_result"
    }
   ],
   "source": [
    "coffee = 'Black coffee'\n",
    "'Lemon' in coffee"
   ]
  },
  {
   "cell_type": "code",
   "execution_count": null,
   "id": "1e59e320-8049-4d13-a71c-94ae173d30bc",
   "metadata": {},
   "outputs": [],
   "source": []
  }
 ],
 "metadata": {
  "kernelspec": {
   "display_name": "Python 3 (ipykernel)",
   "language": "python",
   "name": "python3"
  },
  "language_info": {
   "codemirror_mode": {
    "name": "ipython",
    "version": 3
   },
   "file_extension": ".py",
   "mimetype": "text/x-python",
   "name": "python",
   "nbconvert_exporter": "python",
   "pygments_lexer": "ipython3",
   "version": "3.11.7"
  }
 },
 "nbformat": 4,
 "nbformat_minor": 5
}
