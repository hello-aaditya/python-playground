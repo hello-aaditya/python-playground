{
 "cells": [
  {
   "cell_type": "code",
   "execution_count": 1,
   "id": "2f7572c7-0caf-4a57-9141-db8693ee721c",
   "metadata": {},
   "outputs": [],
   "source": [
    "x = 2\n",
    "y = 3\n",
    "z = 4"
   ]
  },
  {
   "cell_type": "code",
   "execution_count": 2,
   "id": "a83001ca-f79b-4930-9467-2e255973e612",
   "metadata": {},
   "outputs": [
    {
     "data": {
      "text/plain": [
       "14"
      ]
     },
     "execution_count": 2,
     "metadata": {},
     "output_type": "execute_result"
    }
   ],
   "source": [
    "x + y * z"
   ]
  },
  {
   "cell_type": "markdown",
   "id": "ec44a61a-12fc-4e83-a842-ae4e1749f37e",
   "metadata": {},
   "source": [
    "'x + y * z' is not a good Practice\\\n",
    "you should properly write what the problem demands.\\\n",
    "either '(x + y) * z'\\\n",
    "or, 'x + (y * z)'"
   ]
  },
  {
   "cell_type": "code",
   "execution_count": 4,
   "id": "d5cc46a3-bb23-41e7-bb8e-111718ac1313",
   "metadata": {},
   "outputs": [
    {
     "data": {
      "text/plain": [
       "40.23"
      ]
     },
     "execution_count": 4,
     "metadata": {},
     "output_type": "execute_result"
    }
   ],
   "source": [
    "40 + 0.23"
   ]
  },
  {
   "cell_type": "markdown",
   "id": "e837b69c-3a31-4769-8b3d-acee7100b492",
   "metadata": {},
   "source": [
    "'40 + 0.23' is not a good practice\\\n",
    "float(40) + 0.23 -> answer in  float\\\n",
    "40 + int(0.23) -> answer in integer"
   ]
  },
  {
   "cell_type": "code",
   "execution_count": 6,
   "id": "91f110dd-9b35-49d8-bacf-4eca3284f6d3",
   "metadata": {},
   "outputs": [
    {
     "data": {
      "text/plain": [
       "40.23"
      ]
     },
     "execution_count": 6,
     "metadata": {},
     "output_type": "execute_result"
    }
   ],
   "source": [
    "float(40) + 0.23"
   ]
  },
  {
   "cell_type": "code",
   "execution_count": 7,
   "id": "03ef39c7-bc4e-49f9-a45e-9c1eca06ad0d",
   "metadata": {},
   "outputs": [
    {
     "data": {
      "text/plain": [
       "50"
      ]
     },
     "execution_count": 7,
     "metadata": {},
     "output_type": "execute_result"
    }
   ],
   "source": [
    "40 + int(10.33)"
   ]
  },
  {
   "cell_type": "code",
   "execution_count": 8,
   "id": "fdfbdf19-26e1-408e-bb56-2822845aaec6",
   "metadata": {},
   "outputs": [
    {
     "data": {
      "text/plain": [
       "(2, 3, 4)"
      ]
     },
     "execution_count": 8,
     "metadata": {},
     "output_type": "execute_result"
    }
   ],
   "source": [
    "x, y, z"
   ]
  },
  {
   "cell_type": "code",
   "execution_count": 9,
   "id": "994c9bc9-85ad-4471-823f-4d3e4c543713",
   "metadata": {},
   "outputs": [
    {
     "data": {
      "text/plain": [
       "(3, 12)"
      ]
     },
     "execution_count": 9,
     "metadata": {},
     "output_type": "execute_result"
    }
   ],
   "source": [
    "x+1, y*z"
   ]
  },
  {
   "cell_type": "code",
   "execution_count": 10,
   "id": "766a9f10-822d-4c81-862d-7ab3bac56216",
   "metadata": {},
   "outputs": [
    {
     "data": {
      "text/plain": [
       "16"
      ]
     },
     "execution_count": 10,
     "metadata": {},
     "output_type": "execute_result"
    }
   ],
   "source": [
    "z**2"
   ]
  },
  {
   "cell_type": "code",
   "execution_count": 11,
   "id": "c61dd34e-49c6-4f35-ad2b-1bdbdbf4a1ca",
   "metadata": {},
   "outputs": [
    {
     "data": {
      "text/plain": [
       "1267650600228229401496703205376"
      ]
     },
     "execution_count": 11,
     "metadata": {},
     "output_type": "execute_result"
    }
   ],
   "source": [
    "2**100"
   ]
  },
  {
   "cell_type": "code",
   "execution_count": 12,
   "id": "6008cac7-1bcf-4683-a4ae-590a89d658fe",
   "metadata": {},
   "outputs": [
    {
     "data": {
      "text/plain": [
       "10715086071862673209484250490600018105614048117055336074437503883703510511249361224931983788156958581275946729175531468251871452856923140435984577574698574803934567774824230985421074605062371141877954182153046474983581941267398767559165543946077062914571196477686542167660429831652624386837205668069376"
      ]
     },
     "execution_count": 12,
     "metadata": {},
     "output_type": "execute_result"
    }
   ],
   "source": [
    "2**1000"
   ]
  },
  {
   "cell_type": "code",
   "execution_count": 13,
   "id": "e56683d8-99df-4063-9256-7fcfe52d99b4",
   "metadata": {},
   "outputs": [
    {
     "data": {
      "text/plain": [
       "True"
      ]
     },
     "execution_count": 13,
     "metadata": {},
     "output_type": "execute_result"
    }
   ],
   "source": [
    "x < y < z"
   ]
  },
  {
   "cell_type": "markdown",
   "id": "751c116d-8f27-4d20-bbbb-d1c86638b486",
   "metadata": {},
   "source": [
    "x < y < z is same as x<y and y<z"
   ]
  },
  {
   "cell_type": "code",
   "execution_count": 15,
   "id": "5682f957-6aa7-4930-bd4a-2b1e3333e3f2",
   "metadata": {},
   "outputs": [
    {
     "data": {
      "text/plain": [
       "True"
      ]
     },
     "execution_count": 15,
     "metadata": {},
     "output_type": "execute_result"
    }
   ],
   "source": [
    "x<y and y<z"
   ]
  },
  {
   "cell_type": "code",
   "execution_count": 16,
   "id": "48260903-690b-4c5f-bead-ba21bbc37a17",
   "metadata": {},
   "outputs": [
    {
     "data": {
      "text/plain": [
       "True"
      ]
     },
     "execution_count": 16,
     "metadata": {},
     "output_type": "execute_result"
    }
   ],
   "source": [
    "2 == 2 < 3"
   ]
  },
  {
   "cell_type": "markdown",
   "id": "74847669-faa2-49a8-bd0d-46b1fb7ddab0",
   "metadata": {},
   "source": [
    "first check 2 == 2 -> True (or 1) then 1 < 3 -> True"
   ]
  },
  {
   "cell_type": "code",
   "execution_count": 18,
   "id": "3dc83753-7900-42c1-aec3-397705266ce4",
   "metadata": {},
   "outputs": [
    {
     "data": {
      "text/plain": [
       "True"
      ]
     },
     "execution_count": 18,
     "metadata": {},
     "output_type": "execute_result"
    }
   ],
   "source": [
    "2 == 2 and 2 < 3"
   ]
  },
  {
   "cell_type": "code",
   "execution_count": 19,
   "id": "f3512f97-45bc-4e20-90cc-b8529f7b8229",
   "metadata": {},
   "outputs": [],
   "source": [
    "import math"
   ]
  },
  {
   "cell_type": "markdown",
   "id": "97d23b90-15d6-40e7-b99a-5156343ec8e7",
   "metadata": {},
   "source": [
    "### floor() and trunc()\n",
    "- In Python, the math.floor() function returns the largest integer less than or equal to a given number, effectively moving downwards on the number line. This is often referred to as \"flooring\" the number.\n",
    "- The math.trunc() function in Python truncates a floating-point number to its integer component, effectively removing the decimal part and moving towards zero on the number line. This means that math.trunc() behaves similarly to int() for both positive and negative numbers."
   ]
  },
  {
   "cell_type": "code",
   "execution_count": 21,
   "id": "db68959e-ad63-4fd0-af0a-eda1f1cc1924",
   "metadata": {},
   "outputs": [
    {
     "data": {
      "text/plain": [
       "3"
      ]
     },
     "execution_count": 21,
     "metadata": {},
     "output_type": "execute_result"
    }
   ],
   "source": [
    "math.floor(3.8)"
   ]
  },
  {
   "cell_type": "code",
   "execution_count": 22,
   "id": "72bd3423-948e-4c28-99a3-311ff4520637",
   "metadata": {},
   "outputs": [
    {
     "data": {
      "text/plain": [
       "3"
      ]
     },
     "execution_count": 22,
     "metadata": {},
     "output_type": "execute_result"
    }
   ],
   "source": [
    "math.floor(3.112)"
   ]
  },
  {
   "cell_type": "code",
   "execution_count": 23,
   "id": "15151453-ec66-4016-a39c-2f90fd3a815b",
   "metadata": {},
   "outputs": [
    {
     "data": {
      "text/plain": [
       "-4"
      ]
     },
     "execution_count": 23,
     "metadata": {},
     "output_type": "execute_result"
    }
   ],
   "source": [
    "math.floor(-3.8)"
   ]
  },
  {
   "cell_type": "code",
   "execution_count": 24,
   "id": "2b433a9c-9ea4-496b-9515-9e620a9b816f",
   "metadata": {},
   "outputs": [
    {
     "data": {
      "text/plain": [
       "-4"
      ]
     },
     "execution_count": 24,
     "metadata": {},
     "output_type": "execute_result"
    }
   ],
   "source": [
    "math.floor(-3.112)"
   ]
  },
  {
   "cell_type": "code",
   "execution_count": 25,
   "id": "9a79048b-925a-48f0-bb9e-c80eb2487107",
   "metadata": {},
   "outputs": [
    {
     "data": {
      "text/plain": [
       "2"
      ]
     },
     "execution_count": 25,
     "metadata": {},
     "output_type": "execute_result"
    }
   ],
   "source": [
    "math.trunc(2.8)"
   ]
  },
  {
   "cell_type": "code",
   "execution_count": 26,
   "id": "84d82bb1-a43b-4794-a79f-fd709f0a3c6d",
   "metadata": {},
   "outputs": [
    {
     "data": {
      "text/plain": [
       "2"
      ]
     },
     "execution_count": 26,
     "metadata": {},
     "output_type": "execute_result"
    }
   ],
   "source": [
    "math.trunc(2.1)"
   ]
  },
  {
   "cell_type": "code",
   "execution_count": 27,
   "id": "93b82bf3-d543-4ff0-b956-1fc27bc54365",
   "metadata": {},
   "outputs": [
    {
     "data": {
      "text/plain": [
       "-2"
      ]
     },
     "execution_count": 27,
     "metadata": {},
     "output_type": "execute_result"
    }
   ],
   "source": [
    "math.trunc(-2.8)"
   ]
  },
  {
   "cell_type": "code",
   "execution_count": 28,
   "id": "8171fa3f-9070-4185-bc5d-1570f308e814",
   "metadata": {},
   "outputs": [
    {
     "data": {
      "text/plain": [
       "-2"
      ]
     },
     "execution_count": 28,
     "metadata": {},
     "output_type": "execute_result"
    }
   ],
   "source": [
    "math.trunc(-2.112)"
   ]
  },
  {
   "cell_type": "markdown",
   "id": "9ddc9402-899f-46a2-b69d-85d23ffac4bf",
   "metadata": {},
   "source": [
    "# Complex Numbers"
   ]
  },
  {
   "cell_type": "code",
   "execution_count": 30,
   "id": "f8fdfc70-859f-4351-b092-37a142b6bab7",
   "metadata": {},
   "outputs": [
    {
     "data": {
      "text/plain": [
       "(6+3j)"
      ]
     },
     "execution_count": 30,
     "metadata": {},
     "output_type": "execute_result"
    }
   ],
   "source": [
    "(2 + 1j) * 3"
   ]
  },
  {
   "cell_type": "markdown",
   "id": "d99ca409-4605-48cc-b96d-5d911c73d106",
   "metadata": {},
   "source": [
    "# X number System to Decimal"
   ]
  },
  {
   "cell_type": "code",
   "execution_count": 32,
   "id": "4beef339-42dc-4a87-a648-ce5688cb5b4f",
   "metadata": {},
   "outputs": [
    {
     "data": {
      "text/plain": [
       "16"
      ]
     },
     "execution_count": 32,
     "metadata": {},
     "output_type": "execute_result"
    }
   ],
   "source": [
    "0o20"
   ]
  },
  {
   "cell_type": "markdown",
   "id": "e61e3c4b-bd28-48c3-935d-21213b9bd0ad",
   "metadata": {},
   "source": [
    "0->zero\\\n",
    "o->oh->octal\\\n",
    "20->number in octal"
   ]
  },
  {
   "cell_type": "code",
   "execution_count": 34,
   "id": "f614a934-98b6-4353-8727-8536f8cfc50c",
   "metadata": {},
   "outputs": [
    {
     "data": {
      "text/plain": [
       "255"
      ]
     },
     "execution_count": 34,
     "metadata": {},
     "output_type": "execute_result"
    }
   ],
   "source": [
    "0xFF"
   ]
  },
  {
   "cell_type": "markdown",
   "id": "e3f0e318-0482-4d66-b3b6-f385b7c74f2c",
   "metadata": {},
   "source": [
    "0-> zero\\\n",
    "x->hexa\\\n",
    "FF->number in hexadicimal"
   ]
  },
  {
   "cell_type": "code",
   "execution_count": 36,
   "id": "eab85fcc-9469-4363-b6bf-c5ab21f492a2",
   "metadata": {},
   "outputs": [
    {
     "data": {
      "text/plain": [
       "8"
      ]
     },
     "execution_count": 36,
     "metadata": {},
     "output_type": "execute_result"
    }
   ],
   "source": [
    "0b1000"
   ]
  },
  {
   "cell_type": "markdown",
   "id": "7929a27a-844e-4bb3-8bf4-09921a1c7016",
   "metadata": {},
   "source": [
    "0-> zero\\\n",
    "b->binary\\\n",
    "1000-> number in binary"
   ]
  },
  {
   "cell_type": "markdown",
   "id": "ffbeb551-0ef9-4b8a-a50f-e10ecd803c4b",
   "metadata": {},
   "source": [
    "## other way"
   ]
  },
  {
   "cell_type": "code",
   "execution_count": 39,
   "id": "5961e557-f6a4-4a0a-98a7-200e59b171d2",
   "metadata": {},
   "outputs": [
    {
     "data": {
      "text/plain": [
       "16"
      ]
     },
     "execution_count": 39,
     "metadata": {},
     "output_type": "execute_result"
    }
   ],
   "source": [
    "int('20', 8)"
   ]
  },
  {
   "cell_type": "markdown",
   "id": "5a31a306-0b60-4b58-9d65-98a41ac15202",
   "metadata": {},
   "source": [
    "int-> conversion into\\\n",
    "20-> the target number\\\n",
    "8-> the base, the target value has"
   ]
  },
  {
   "cell_type": "code",
   "execution_count": 41,
   "id": "7821da8b-9a6a-4721-b540-9bc399244d1c",
   "metadata": {},
   "outputs": [
    {
     "data": {
      "text/plain": [
       "9"
      ]
     },
     "execution_count": 41,
     "metadata": {},
     "output_type": "execute_result"
    }
   ],
   "source": [
    "int('1001', 2)"
   ]
  },
  {
   "cell_type": "code",
   "execution_count": 42,
   "id": "1041e1b2-e551-40f3-8821-4e204e9e6c53",
   "metadata": {},
   "outputs": [
    {
     "data": {
      "text/plain": [
       "15"
      ]
     },
     "execution_count": 42,
     "metadata": {},
     "output_type": "execute_result"
    }
   ],
   "source": [
    "int('F', 16)"
   ]
  },
  {
   "cell_type": "code",
   "execution_count": 43,
   "id": "f469c4a5-69e0-44c9-85a4-b20bae366035",
   "metadata": {},
   "outputs": [
    {
     "data": {
      "text/plain": [
       "52"
      ]
     },
     "execution_count": 43,
     "metadata": {},
     "output_type": "execute_result"
    }
   ],
   "source": [
    "int('64', 8)"
   ]
  },
  {
   "cell_type": "code",
   "execution_count": 44,
   "id": "c7dcfef5-933a-4b4e-8575-787da4ad9b58",
   "metadata": {},
   "outputs": [
    {
     "data": {
      "text/plain": [
       "100"
      ]
     },
     "execution_count": 44,
     "metadata": {},
     "output_type": "execute_result"
    }
   ],
   "source": [
    "int('64', 16)"
   ]
  },
  {
   "cell_type": "markdown",
   "id": "91e059aa-321f-4117-a235-69607f79208a",
   "metadata": {},
   "source": [
    "# some libraries"
   ]
  },
  {
   "cell_type": "code",
   "execution_count": 46,
   "id": "3dd32d7e-ad21-41b6-bdb1-b26ce367a2ff",
   "metadata": {},
   "outputs": [],
   "source": [
    "import random"
   ]
  },
  {
   "cell_type": "code",
   "execution_count": 47,
   "id": "a09f9d7e-43ed-48c8-a693-9d7ae3e47acb",
   "metadata": {},
   "outputs": [
    {
     "data": {
      "text/plain": [
       "7"
      ]
     },
     "execution_count": 47,
     "metadata": {},
     "output_type": "execute_result"
    }
   ],
   "source": [
    "random.randint(1, 10)"
   ]
  },
  {
   "cell_type": "markdown",
   "id": "fff28789-27f2-40ef-9ca5-d861d81b319b",
   "metadata": {},
   "source": [
    "gives random values from 1 to n"
   ]
  },
  {
   "cell_type": "code",
   "execution_count": 49,
   "id": "af0ffd92-f577-4ebc-a447-a7b5144e6606",
   "metadata": {},
   "outputs": [
    {
     "data": {
      "text/plain": [
       "'Hot Coffee'"
      ]
     },
     "execution_count": 49,
     "metadata": {},
     "output_type": "execute_result"
    }
   ],
   "source": [
    "l1 = ['Coffee', 'Hot Coffee', 'Chocolate Coffee']\n",
    "random.choice(l1)"
   ]
  },
  {
   "cell_type": "markdown",
   "id": "ec8d4253-658c-425a-a82f-35291b2456ef",
   "metadata": {},
   "source": [
    "gives random values from a given list"
   ]
  },
  {
   "cell_type": "code",
   "execution_count": 51,
   "id": "a3ee0b73-4f2b-47ce-89a4-8a6551229092",
   "metadata": {},
   "outputs": [
    {
     "name": "stdout",
     "output_type": "stream",
     "text": [
      "['Dalgona Coffee', 'Hot Coffee', 'Cappuccino', 'Coffee', 'Chocolate Coffee']\n"
     ]
    }
   ],
   "source": [
    "l2 = ['Coffee', 'Hot Coffee', 'Chocolate Coffee', 'Dalgona Coffee', 'Cappuccino']\n",
    "random.shuffle(l2)\n",
    "print(l2)"
   ]
  },
  {
   "cell_type": "markdown",
   "id": "55421040-e198-47e1-bd5b-0fb0c4f4d36a",
   "metadata": {},
   "source": [
    "The random.shuffle() function shuffles a list in place "
   ]
  },
  {
   "cell_type": "markdown",
   "id": "d9bae86e-5b2f-4790-a8a9-e6da66c08751",
   "metadata": {},
   "source": [
    "# decimal"
   ]
  },
  {
   "cell_type": "code",
   "execution_count": 54,
   "id": "490c3fbd-6f9e-4437-897c-d6fddc79e356",
   "metadata": {},
   "outputs": [
    {
     "data": {
      "text/plain": [
       "5.551115123125783e-17"
      ]
     },
     "execution_count": 54,
     "metadata": {},
     "output_type": "execute_result"
    }
   ],
   "source": [
    "0.1 + 0.1 + 0.1 - 0.3"
   ]
  },
  {
   "cell_type": "code",
   "execution_count": 55,
   "id": "25b80b3b-940b-41c7-9a1e-0be442851439",
   "metadata": {},
   "outputs": [
    {
     "data": {
      "text/plain": [
       "5.551115123125783e-17"
      ]
     },
     "execution_count": 55,
     "metadata": {},
     "output_type": "execute_result"
    }
   ],
   "source": [
    "(0.1 + 0.1 + 0.1) - 0.3"
   ]
  },
  {
   "cell_type": "markdown",
   "id": "04cb075b-2fe1-49ee-bcbd-899b897b0da5",
   "metadata": {},
   "source": [
    "gives wrong answer always,\n",
    "then what is the solution ?\n",
    "- import a library\n",
    "    #### from decimal import Decimal"
   ]
  },
  {
   "cell_type": "code",
   "execution_count": 57,
   "id": "6abf4e1f-6393-4efc-9230-ea3113e2310f",
   "metadata": {},
   "outputs": [],
   "source": [
    "from decimal import Decimal"
   ]
  },
  {
   "cell_type": "code",
   "execution_count": 58,
   "id": "67840cd1-2736-4f66-bb5b-d23989669db3",
   "metadata": {},
   "outputs": [
    {
     "data": {
      "text/plain": [
       "Decimal('0.0')"
      ]
     },
     "execution_count": 58,
     "metadata": {},
     "output_type": "execute_result"
    }
   ],
   "source": [
    "Decimal('0.1') + Decimal('0.1') + Decimal('0.1') - Decimal('0.3')"
   ]
  },
  {
   "cell_type": "markdown",
   "id": "03cdc280-f3a0-49ce-ab30-7316e3fa7b7e",
   "metadata": {},
   "source": [
    "# fraction"
   ]
  },
  {
   "cell_type": "code",
   "execution_count": 60,
   "id": "97bb397a-e293-4c6b-9f2e-9c37a258206e",
   "metadata": {},
   "outputs": [],
   "source": [
    "from fractions import Fraction"
   ]
  },
  {
   "cell_type": "code",
   "execution_count": 61,
   "id": "de28239c-829f-4f33-bd9d-8adcd944e90f",
   "metadata": {},
   "outputs": [
    {
     "name": "stdout",
     "output_type": "stream",
     "text": [
      "2/7\n"
     ]
    }
   ],
   "source": [
    "fr1 = Fraction(2, 7)\n",
    "print(fr1)"
   ]
  },
  {
   "cell_type": "code",
   "execution_count": 62,
   "id": "e9acd053-269c-49c6-8877-511f19921fe5",
   "metadata": {},
   "outputs": [
    {
     "name": "stdout",
     "output_type": "stream",
     "text": [
      "3/5\n"
     ]
    }
   ],
   "source": [
    "fr2 = Fraction(3, 5)\n",
    "print(fr2)"
   ]
  },
  {
   "cell_type": "code",
   "execution_count": 63,
   "id": "6223bc57-9c59-4af1-9691-6aa23268d21a",
   "metadata": {},
   "outputs": [
    {
     "name": "stdout",
     "output_type": "stream",
     "text": [
      "31/35\n"
     ]
    }
   ],
   "source": [
    "fr1 = Fraction(2, 7)\n",
    "fr2 = Fraction(3, 5)\n",
    "print(fr1+fr2)"
   ]
  },
  {
   "cell_type": "code",
   "execution_count": null,
   "id": "951c4748-7ad5-46a4-8b71-791af17d8668",
   "metadata": {},
   "outputs": [],
   "source": []
  }
 ],
 "metadata": {
  "kernelspec": {
   "display_name": "Python 3 (ipykernel)",
   "language": "python",
   "name": "python3"
  },
  "language_info": {
   "codemirror_mode": {
    "name": "ipython",
    "version": 3
   },
   "file_extension": ".py",
   "mimetype": "text/x-python",
   "name": "python",
   "nbconvert_exporter": "python",
   "pygments_lexer": "ipython3",
   "version": "3.11.7"
  }
 },
 "nbformat": 4,
 "nbformat_minor": 5
}
