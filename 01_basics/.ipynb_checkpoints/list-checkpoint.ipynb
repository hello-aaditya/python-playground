{
 "cells": [
  {
   "cell_type": "code",
   "execution_count": 1,
   "id": "f06886bd-df69-4070-af5b-d34302e02555",
   "metadata": {},
   "outputs": [
    {
     "name": "stdout",
     "output_type": "stream",
     "text": [
      "['Black Coffee', 'Milk Coffee', 'Chocolate Coffee', 'Cappuccino', 'Dalgona Coffee', 'Turkish Coffee']\n"
     ]
    }
   ],
   "source": [
    "coffee_varities = ['Black Coffee', 'Milk Coffee', 'Chocolate Coffee', 'Cappuccino', 'Dalgona Coffee', 'Turkish Coffee']\n",
    "print(coffee_varities)"
   ]
  },
  {
   "cell_type": "code",
   "execution_count": 2,
   "id": "3cdcb76f-68f6-461b-b43c-7f9296e91553",
   "metadata": {},
   "outputs": [
    {
     "name": "stdout",
     "output_type": "stream",
     "text": [
      "Milk Coffee\n"
     ]
    }
   ],
   "source": [
    "print(coffee_varities[1])"
   ]
  },
  {
   "cell_type": "code",
   "execution_count": 3,
   "id": "0a3c0b26-96eb-4b4d-b93a-0fc529057077",
   "metadata": {},
   "outputs": [
    {
     "name": "stdout",
     "output_type": "stream",
     "text": [
      "Dalgona Coffee\n"
     ]
    }
   ],
   "source": [
    "print(coffee_varities[-2])"
   ]
  },
  {
   "cell_type": "code",
   "execution_count": 4,
   "id": "46bdf419-73bc-40e1-ab2f-d834e25ab0d2",
   "metadata": {},
   "outputs": [
    {
     "name": "stdout",
     "output_type": "stream",
     "text": [
      "['Milk Coffee', 'Chocolate Coffee']\n"
     ]
    }
   ],
   "source": [
    "print(coffee_varities[1:3])"
   ]
  },
  {
   "cell_type": "code",
   "execution_count": 5,
   "id": "39dd819d-10b3-4b7e-ab5c-a7e78f596c17",
   "metadata": {},
   "outputs": [
    {
     "name": "stdout",
     "output_type": "stream",
     "text": [
      "['Black Coffee', 'Milk Coffee']\n"
     ]
    }
   ],
   "source": [
    "print(coffee_varities[:2])"
   ]
  },
  {
   "cell_type": "code",
   "execution_count": 6,
   "id": "4ed83b2e-9c7e-4f35-b921-5ff75e11b1d1",
   "metadata": {},
   "outputs": [
    {
     "name": "stdout",
     "output_type": "stream",
     "text": [
      "['Chocolate Coffee', 'Cappuccino', 'Dalgona Coffee', 'Turkish Coffee']\n"
     ]
    }
   ],
   "source": [
    "print(coffee_varities[2:])"
   ]
  },
  {
   "cell_type": "code",
   "execution_count": 7,
   "id": "e7803b8b-ee3d-4ba8-bc16-f27dee3dd593",
   "metadata": {},
   "outputs": [
    {
     "name": "stdout",
     "output_type": "stream",
     "text": [
      "['Black Coffee', 'Milk Coffee', 'Latte Coffee', 'Cappuccino', 'Dalgona Coffee', 'Turkish Coffee']\n"
     ]
    }
   ],
   "source": [
    "coffee_varities[2] = 'Latte Coffee'\n",
    "print(coffee_varities)"
   ]
  },
  {
   "cell_type": "markdown",
   "id": "df6ad7ff-5c78-41f7-ae18-a5ad75fc331b",
   "metadata": {},
   "source": [
    "### Experiments on Slicing"
   ]
  },
  {
   "cell_type": "code",
   "execution_count": 9,
   "id": "f55280b6-ac39-466e-b045-f7dc1a126dd7",
   "metadata": {},
   "outputs": [
    {
     "name": "stdout",
     "output_type": "stream",
     "text": [
      "['Black Coffee', 'I', 'r', 'i', 's', 'h', ' ', 'C', 'o', 'f', 'f', 'e', 'e', 'Milk Coffee', 'Latte Coffee', 'Cappuccino', 'Dalgona Coffee', 'Turkish Coffee']\n"
     ]
    }
   ],
   "source": [
    "coffee_varities[1:1] = 'Irish Coffee'\n",
    "print(coffee_varities)"
   ]
  },
  {
   "cell_type": "code",
   "execution_count": 10,
   "id": "70b86f61-f40d-44f8-9216-8326aa88faa3",
   "metadata": {},
   "outputs": [
    {
     "name": "stdout",
     "output_type": "stream",
     "text": [
      "['Black Coffee', 'Irish Coffee', 'Milk Coffee', 'Chocolate Coffee', 'Cappuccino', 'Dalgona Coffee', 'Turkish Coffee']\n"
     ]
    }
   ],
   "source": [
    "coffee_varities = ['Black Coffee', 'Milk Coffee', 'Chocolate Coffee', 'Cappuccino', 'Dalgona Coffee', 'Turkish Coffee']\n",
    "coffee_varities[1:1] = ['Irish Coffee']\n",
    "print(coffee_varities)"
   ]
  },
  {
   "cell_type": "code",
   "execution_count": 11,
   "id": "937719ad-243b-4df1-ac5b-b9daad5f35f0",
   "metadata": {},
   "outputs": [
    {
     "name": "stdout",
     "output_type": "stream",
     "text": [
      "['Black Coffee', 'Milk Coffee', 'Chocolate Coffee', 'Cappuccino', 'Dalgona Coffee', 'Turkish Coffee']\n"
     ]
    }
   ],
   "source": [
    "coffee_varities[1:2] = []\n",
    "print(coffee_varities)"
   ]
  },
  {
   "cell_type": "markdown",
   "id": "f4ceafe8-5a2a-4f6e-8a57-e65746ebd7e8",
   "metadata": {},
   "source": [
    "### loop in list"
   ]
  },
  {
   "cell_type": "code",
   "execution_count": 13,
   "id": "2fdd5e98-30e1-4516-9140-3440b56c7d55",
   "metadata": {},
   "outputs": [
    {
     "name": "stdout",
     "output_type": "stream",
     "text": [
      "Black Coffee\n",
      "Milk Coffee\n",
      "Chocolate Coffee\n",
      "Cappuccino\n",
      "Dalgona Coffee\n",
      "Turkish Coffee\n"
     ]
    }
   ],
   "source": [
    "coffee_varities = ['Black Coffee', 'Milk Coffee', 'Chocolate Coffee', 'Cappuccino', 'Dalgona Coffee', 'Turkish Coffee']\n",
    "for coffee in coffee_varities:\n",
    "    print(coffee)"
   ]
  },
  {
   "cell_type": "markdown",
   "id": "e5babd67-ae61-468f-8906-c6acf002be89",
   "metadata": {},
   "source": [
    "### print all the elemets in a line and separate by a delimeter"
   ]
  },
  {
   "cell_type": "code",
   "execution_count": 15,
   "id": "e6e4d271-5e58-4bd2-97a7-5f58ac5c57b7",
   "metadata": {},
   "outputs": [
    {
     "name": "stdout",
     "output_type": "stream",
     "text": [
      "Black Coffee, Milk Coffee, Chocolate Coffee, Cappuccino, Dalgona Coffee, Turkish Coffee, "
     ]
    }
   ],
   "source": [
    "coffee_varities = ['Black Coffee', 'Milk Coffee', 'Chocolate Coffee', 'Cappuccino', 'Dalgona Coffee', 'Turkish Coffee']\n",
    "for coffee in coffee_varities:\n",
    "    print(coffee, end = ', ')"
   ]
  },
  {
   "cell_type": "markdown",
   "id": "85d782b8-74ec-469b-9142-27b188c4998c",
   "metadata": {},
   "source": [
    "### use the in keyword to check if an element exists in a list"
   ]
  },
  {
   "cell_type": "code",
   "execution_count": 17,
   "id": "021732eb-9bf1-4e30-bb58-71cb8bb972ab",
   "metadata": {},
   "outputs": [
    {
     "name": "stdout",
     "output_type": "stream",
     "text": [
      "It has\n"
     ]
    }
   ],
   "source": [
    "if 'Dalgona Coffee' in coffee_varities:\n",
    "    print('It has')"
   ]
  },
  {
   "cell_type": "code",
   "execution_count": 18,
   "id": "857e9698-6156-4f7e-ae43-05391317c084",
   "metadata": {},
   "outputs": [],
   "source": [
    "if 'Espresso' in coffee_varities:\n",
    "    print('It has')"
   ]
  },
  {
   "cell_type": "markdown",
   "id": "314a6289-db1e-495d-970a-ea8902460208",
   "metadata": {},
   "source": [
    "### .append()\n",
    "#### use the .append() method to add an element to the end of a list"
   ]
  },
  {
   "cell_type": "code",
   "execution_count": 20,
   "id": "6c5b4d20-1303-4022-9d18-597646272ea1",
   "metadata": {},
   "outputs": [
    {
     "name": "stdout",
     "output_type": "stream",
     "text": [
      "['Black Coffee', 'Milk Coffee', 'Chocolate Coffee', 'Cappuccino', 'Dalgona Coffee', 'Turkish Coffee', 'Espresso']\n"
     ]
    }
   ],
   "source": [
    "coffee_varities.append('Espresso')\n",
    "print(coffee_varities)"
   ]
  },
  {
   "cell_type": "markdown",
   "id": "6fd196dd-00e0-4e9c-acbc-6539216e9a27",
   "metadata": {},
   "source": [
    "### .pop()\n",
    "#### .pop() method removes and returns the last element in a list"
   ]
  },
  {
   "cell_type": "code",
   "execution_count": 22,
   "id": "beea25dc-4b48-4a0c-83d6-7a0d9240aa03",
   "metadata": {},
   "outputs": [
    {
     "data": {
      "text/plain": [
       "'Espresso'"
      ]
     },
     "execution_count": 22,
     "metadata": {},
     "output_type": "execute_result"
    }
   ],
   "source": [
    "coffee_varities.pop()"
   ]
  },
  {
   "cell_type": "code",
   "execution_count": 23,
   "id": "9ab558e2-99f2-4cdb-b23d-3b09debd6fab",
   "metadata": {},
   "outputs": [
    {
     "name": "stdout",
     "output_type": "stream",
     "text": [
      "['Black Coffee', 'Milk Coffee', 'Chocolate Coffee', 'Cappuccino', 'Dalgona Coffee', 'Turkish Coffee']\n"
     ]
    }
   ],
   "source": [
    "print(coffee_varities)"
   ]
  },
  {
   "cell_type": "markdown",
   "id": "8854d71c-d89e-4923-b444-5af1c7e9e8e0",
   "metadata": {},
   "source": [
    "### .insert()\n",
    "#### .insert() method allows to insert an element at a specified position in a list"
   ]
  },
  {
   "cell_type": "code",
   "execution_count": 25,
   "id": "5be80008-1218-4162-8bba-d44c5c071965",
   "metadata": {},
   "outputs": [],
   "source": [
    "coffee_varities.insert(1, 'Espresso')"
   ]
  },
  {
   "cell_type": "code",
   "execution_count": 26,
   "id": "4a9b202b-2ae6-4613-bba6-7351bd273d3b",
   "metadata": {},
   "outputs": [
    {
     "name": "stdout",
     "output_type": "stream",
     "text": [
      "['Black Coffee', 'Espresso', 'Milk Coffee', 'Chocolate Coffee', 'Cappuccino', 'Dalgona Coffee', 'Turkish Coffee']\n"
     ]
    }
   ],
   "source": [
    "print(coffee_varities)"
   ]
  },
  {
   "cell_type": "markdown",
   "id": "7fbeb2d7-b91f-47d6-9db5-e71ec8f4fa56",
   "metadata": {},
   "source": [
    "### .remove()\n",
    "#### remove() method to delete an element from a list"
   ]
  },
  {
   "cell_type": "code",
   "execution_count": 28,
   "id": "02e0d305-ca0b-4897-8e47-f41a06c07c21",
   "metadata": {},
   "outputs": [],
   "source": [
    "coffee_varities = ['Black Coffee', 'Espresso', 'Milk Coffee', 'Chocolate Coffee', 'Cappuccino', 'Dalgona Coffee', 'Turkish Coffee']\n",
    "coffee_varities.remove('Dalgona Coffee')"
   ]
  },
  {
   "cell_type": "code",
   "execution_count": 29,
   "id": "a189bd30-d35c-40d5-8615-9d5406171392",
   "metadata": {},
   "outputs": [
    {
     "name": "stdout",
     "output_type": "stream",
     "text": [
      "['Black Coffee', 'Espresso', 'Milk Coffee', 'Chocolate Coffee', 'Cappuccino', 'Turkish Coffee']\n"
     ]
    }
   ],
   "source": [
    "print(coffee_varities)"
   ]
  },
  {
   "cell_type": "markdown",
   "id": "4eca9789-947b-41e6-a9b5-868e7c58425b",
   "metadata": {},
   "source": [
    "### assign one list to another variable, both variables reference the same list in memory"
   ]
  },
  {
   "cell_type": "code",
   "execution_count": 31,
   "id": "f42a5f7b-d8db-4cfa-9a9c-945bf195b3a7",
   "metadata": {},
   "outputs": [],
   "source": [
    "coffee_varities_copy = coffee_varities"
   ]
  },
  {
   "cell_type": "code",
   "execution_count": 32,
   "id": "b0605553-992b-47f4-b782-7ddec4967a8f",
   "metadata": {},
   "outputs": [
    {
     "name": "stdout",
     "output_type": "stream",
     "text": [
      "['Black Coffee', 'Espresso', 'Milk Coffee', 'Chocolate Coffee', 'Cappuccino']\n"
     ]
    }
   ],
   "source": [
    "coffee_varities.pop()\n",
    "print(coffee_varities_copy)"
   ]
  },
  {
   "cell_type": "markdown",
   "id": "b2c6e833-cd29-42ee-aa45-99d50a9f8fa4",
   "metadata": {},
   "source": [
    "### .copy()\n",
    "#### By using the copy() method, you create a shallow copy of the list, which means changes to the original list will not affect the copied list."
   ]
  },
  {
   "cell_type": "code",
   "execution_count": 34,
   "id": "d203cf43-5ca3-4dbb-93bf-893b44dfd630",
   "metadata": {},
   "outputs": [],
   "source": [
    "coffee_varities = ['Black Coffee', 'Espresso', 'Milk Coffee', 'Chocolate Coffee', 'Cappuccino', 'Dalgona Coffee', 'Turkish Coffee']"
   ]
  },
  {
   "cell_type": "code",
   "execution_count": 35,
   "id": "672a2de5-6f50-4808-a264-88c751f8e8a4",
   "metadata": {},
   "outputs": [],
   "source": [
    "coffee_varities_copy = coffee_varities.copy()"
   ]
  },
  {
   "cell_type": "code",
   "execution_count": 36,
   "id": "06c67976-1646-4281-88dc-9c61fc85f30a",
   "metadata": {},
   "outputs": [],
   "source": [
    "coffee_varities.remove('Dalgona Coffee')"
   ]
  },
  {
   "cell_type": "code",
   "execution_count": 37,
   "id": "006b414a-4e67-4088-9e48-f3b62f5c1f47",
   "metadata": {},
   "outputs": [
    {
     "name": "stdout",
     "output_type": "stream",
     "text": [
      "['Black Coffee', 'Espresso', 'Milk Coffee', 'Chocolate Coffee', 'Cappuccino', 'Dalgona Coffee', 'Turkish Coffee']\n"
     ]
    }
   ],
   "source": [
    "print(coffee_varities_copy)"
   ]
  },
  {
   "cell_type": "markdown",
   "id": "16368839-3341-4963-b254-5379911ec916",
   "metadata": {},
   "source": [
    "### List Comprehension"
   ]
  },
  {
   "cell_type": "code",
   "execution_count": 69,
   "id": "bdff5f2c-6ae6-46d6-b280-08d67248cbf4",
   "metadata": {},
   "outputs": [],
   "source": [
    "squared_num = [x**2 for x in range(10)]"
   ]
  },
  {
   "cell_type": "code",
   "execution_count": 71,
   "id": "d2fad1a3-d2f7-4a65-b9ef-06994db6d4ae",
   "metadata": {},
   "outputs": [
    {
     "name": "stdout",
     "output_type": "stream",
     "text": [
      "[0, 1, 4, 9, 16, 25, 36, 49, 64, 81]\n"
     ]
    }
   ],
   "source": [
    "print(squared_num)"
   ]
  },
  {
   "cell_type": "code",
   "execution_count": 75,
   "id": "dbd108a1-233c-41ef-8f6a-114b44f13aa5",
   "metadata": {},
   "outputs": [
    {
     "name": "stdout",
     "output_type": "stream",
     "text": [
      "[True, False, True, False]\n"
     ]
    }
   ],
   "source": [
    "even_num = [(x%2==0) for x in range(4)]\n",
    "print(even_num)"
   ]
  },
  {
   "cell_type": "code",
   "execution_count": null,
   "id": "c6e0080e-5768-4e08-97c1-2d065634820a",
   "metadata": {},
   "outputs": [],
   "source": []
  }
 ],
 "metadata": {
  "kernelspec": {
   "display_name": "Python 3 (ipykernel)",
   "language": "python",
   "name": "python3"
  },
  "language_info": {
   "codemirror_mode": {
    "name": "ipython",
    "version": 3
   },
   "file_extension": ".py",
   "mimetype": "text/x-python",
   "name": "python",
   "nbconvert_exporter": "python",
   "pygments_lexer": "ipython3",
   "version": "3.11.7"
  }
 },
 "nbformat": 4,
 "nbformat_minor": 5
}
