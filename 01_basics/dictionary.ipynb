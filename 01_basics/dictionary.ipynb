{
 "cells": [
  {
   "cell_type": "markdown",
   "id": "20f38e88-9259-44e1-8dc6-4b058f00293e",
   "metadata": {},
   "source": [
    "# Dictionary\n",
    "#### structure of a dictionary\n",
    "dictionary_name = {'key' : 'value'}"
   ]
  },
  {
   "cell_type": "code",
   "execution_count": 2,
   "id": "0623a1ee-59a5-4edc-897c-b21ed440437a",
   "metadata": {},
   "outputs": [],
   "source": [
    "coffee_types = {\n",
    "    'Black Coffee' : 'Bitter',\n",
    "    'Milk Coffee' : 'Sweet',\n",
    "    'Cappuccino' : 'foamy'\n",
    "}"
   ]
  },
  {
   "cell_type": "code",
   "execution_count": 3,
   "id": "aca76b41-76fb-485e-aee1-f1f23c955f98",
   "metadata": {},
   "outputs": [
    {
     "name": "stdout",
     "output_type": "stream",
     "text": [
      "{'Black Coffee': 'Bitter', 'Milk Coffee': 'Sweet', 'Cappuccino': 'foamy'}\n"
     ]
    }
   ],
   "source": [
    "print(coffee_types)"
   ]
  },
  {
   "cell_type": "code",
   "execution_count": 4,
   "id": "e35a9ca6-710a-43d2-90b4-023e18c72596",
   "metadata": {},
   "outputs": [
    {
     "data": {
      "text/plain": [
       "'Bitter'"
      ]
     },
     "execution_count": 4,
     "metadata": {},
     "output_type": "execute_result"
    }
   ],
   "source": [
    "coffee_types['Black Coffee']"
   ]
  },
  {
   "cell_type": "markdown",
   "id": "cd916e5f-3c2a-492d-b22a-3a30682b2483",
   "metadata": {},
   "source": [
    "### .get()\n",
    "#### get() method is used to retrieve the value associated with a specified key from a dictionary"
   ]
  },
  {
   "cell_type": "code",
   "execution_count": 5,
   "id": "0d9bc5e6-9b85-4802-ab0e-b86c709cc89a",
   "metadata": {},
   "outputs": [
    {
     "data": {
      "text/plain": [
       "'Sweet'"
      ]
     },
     "execution_count": 5,
     "metadata": {},
     "output_type": "execute_result"
    }
   ],
   "source": [
    "coffee_types.get('Milk Coffee')"
   ]
  },
  {
   "cell_type": "code",
   "execution_count": 6,
   "id": "97d9eed7-05fc-4fff-b45e-836246e5b684",
   "metadata": {},
   "outputs": [
    {
     "ename": "TypeError",
     "evalue": "'dict' object is not callable",
     "output_type": "error",
     "traceback": [
      "\u001b[1;31m---------------------------------------------------------------------------\u001b[0m",
      "\u001b[1;31mTypeError\u001b[0m                                 Traceback (most recent call last)",
      "Cell \u001b[1;32mIn[6], line 1\u001b[0m\n\u001b[1;32m----> 1\u001b[0m coffee_types(\u001b[38;5;124m'\u001b[39m\u001b[38;5;124mDalgona\u001b[39m\u001b[38;5;124m'\u001b[39m)\n",
      "\u001b[1;31mTypeError\u001b[0m: 'dict' object is not callable"
     ]
    }
   ],
   "source": [
    "coffee_types('Dalgona')"
   ]
  },
  {
   "cell_type": "markdown",
   "id": "897cff54-155b-4936-921b-8fd318fb3502",
   "metadata": {},
   "source": [
    "### add a new key-value pair if the key does not exist"
   ]
  },
  {
   "cell_type": "code",
   "execution_count": 11,
   "id": "cc6889f9-7ae5-49d7-b425-523c6218d9ef",
   "metadata": {},
   "outputs": [],
   "source": [
    "coffee_types['Chocolate Coffee'] = 'SweetTasty'"
   ]
  },
  {
   "cell_type": "code",
   "execution_count": 13,
   "id": "2c243a1c-93c6-4c5e-8c87-c34662c92c06",
   "metadata": {},
   "outputs": [
    {
     "name": "stdout",
     "output_type": "stream",
     "text": [
      "{'Black Coffee': 'Bitter', 'Milk Coffee': 'Sweet', 'Cappuccino': 'foamy', 'Chocolate Coffee': 'SweetTasty'}\n"
     ]
    }
   ],
   "source": [
    "print(coffee_types)"
   ]
  },
  {
   "cell_type": "markdown",
   "id": "504620cf-d85d-40f0-94dd-6d25398c4a42",
   "metadata": {},
   "source": [
    "### iterate over the items of the dictionary "
   ]
  },
  {
   "cell_type": "code",
   "execution_count": 18,
   "id": "10c84367-eb5c-4659-b8e7-300045b31a3d",
   "metadata": {},
   "outputs": [],
   "source": [
    "coffee_types = {\n",
    "    'Black Coffee' : 'Bitter',\n",
    "    'Milk Coffee' : 'Sweet',\n",
    "    'Cappuccino' : 'foamy'\n",
    "}"
   ]
  },
  {
   "cell_type": "code",
   "execution_count": 20,
   "id": "8a4d7bd6-a438-4cfd-92f8-684ead7e04f1",
   "metadata": {},
   "outputs": [
    {
     "name": "stdout",
     "output_type": "stream",
     "text": [
      "Black Coffee\n",
      "Milk Coffee\n",
      "Cappuccino\n"
     ]
    }
   ],
   "source": [
    "for coffee in coffee_types:\n",
    "    print(coffee)"
   ]
  },
  {
   "cell_type": "markdown",
   "id": "ee829296-263a-44f8-bb82-69553a0222d9",
   "metadata": {},
   "source": [
    "### iterates over dictionary and prints each key along with its corresponding value "
   ]
  },
  {
   "cell_type": "code",
   "execution_count": 24,
   "id": "0c8dbe98-5dc0-4b3f-8b34-bdf90987f269",
   "metadata": {},
   "outputs": [
    {
     "name": "stdout",
     "output_type": "stream",
     "text": [
      "Black Coffee Bitter\n",
      "Milk Coffee Sweet\n",
      "Cappuccino foamy\n"
     ]
    }
   ],
   "source": [
    "for coffee, taste in coffee_types.items():\n",
    "    print(coffee, taste)"
   ]
  },
  {
   "cell_type": "markdown",
   "id": "912f1d20-a034-493e-a43d-b4b709cb742d",
   "metadata": {},
   "source": [
    "### conditional loop"
   ]
  },
  {
   "cell_type": "code",
   "execution_count": 28,
   "id": "6b2e6bf8-5edf-4aeb-b348-3ccc2be63828",
   "metadata": {},
   "outputs": [
    {
     "name": "stdout",
     "output_type": "stream",
     "text": [
      "I have.\n"
     ]
    }
   ],
   "source": [
    "if 'Milk Coffee' in coffee_types:\n",
    "    print('I have.')"
   ]
  },
  {
   "cell_type": "markdown",
   "id": "56fbbb7d-3be6-460a-9a8b-b2c8a9f8a72b",
   "metadata": {},
   "source": [
    "### len()\n",
    "#### length of key-value pairs in the dictionary"
   ]
  },
  {
   "cell_type": "code",
   "execution_count": 31,
   "id": "6825b111-b54c-4afb-b074-d4ec9de26c5e",
   "metadata": {},
   "outputs": [
    {
     "name": "stdout",
     "output_type": "stream",
     "text": [
      "3\n"
     ]
    }
   ],
   "source": [
    "print(len(coffee_types))"
   ]
  },
  {
   "cell_type": "markdown",
   "id": "c501a557-e3b8-4057-9d13-c7ea175716e4",
   "metadata": {},
   "source": [
    "### add a new key-value pair to the dictionary "
   ]
  },
  {
   "cell_type": "code",
   "execution_count": 39,
   "id": "d135a9ca-eb7f-44b9-a1f0-db067d002b13",
   "metadata": {},
   "outputs": [],
   "source": [
    "coffee_types['Chocolate Coffee'] = 'Chocolatey'"
   ]
  },
  {
   "cell_type": "code",
   "execution_count": 41,
   "id": "cada25ba-51cb-45a0-b343-10afcce3cd2e",
   "metadata": {},
   "outputs": [
    {
     "name": "stdout",
     "output_type": "stream",
     "text": [
      "{'Black Coffee': 'Bitter', 'Milk Coffee': 'Sweet', 'Cappuccino': 'foamy', 'Chocolate Coffee': 'Chocolatey'}\n"
     ]
    }
   ],
   "source": [
    "print(coffee_types)"
   ]
  },
  {
   "cell_type": "markdown",
   "id": "a73db796-e4b9-4402-ac21-074c029a81d4",
   "metadata": {},
   "source": [
    "### .pop()"
   ]
  },
  {
   "cell_type": "code",
   "execution_count": 44,
   "id": "5da49b1e-3175-4c21-a0ae-f20d3fb74b31",
   "metadata": {},
   "outputs": [
    {
     "ename": "TypeError",
     "evalue": "pop expected at least 1 argument, got 0",
     "output_type": "error",
     "traceback": [
      "\u001b[1;31m---------------------------------------------------------------------------\u001b[0m",
      "\u001b[1;31mTypeError\u001b[0m                                 Traceback (most recent call last)",
      "Cell \u001b[1;32mIn[44], line 1\u001b[0m\n\u001b[1;32m----> 1\u001b[0m coffee_types\u001b[38;5;241m.\u001b[39mpop()\n",
      "\u001b[1;31mTypeError\u001b[0m: pop expected at least 1 argument, got 0"
     ]
    }
   ],
   "source": [
    "#wrong syntax\n",
    "coffee_types.pop()"
   ]
  },
  {
   "cell_type": "code",
   "execution_count": 46,
   "id": "6b870c6b-e272-471e-90c3-6f133a09d1e2",
   "metadata": {},
   "outputs": [
    {
     "data": {
      "text/plain": [
       "'Chocolatey'"
      ]
     },
     "execution_count": 46,
     "metadata": {},
     "output_type": "execute_result"
    }
   ],
   "source": [
    "coffee_types.pop('Chocolate Coffee')"
   ]
  },
  {
   "cell_type": "code",
   "execution_count": 48,
   "id": "31a9bb5b-5502-445d-bcf0-d9fb931945f4",
   "metadata": {},
   "outputs": [
    {
     "name": "stdout",
     "output_type": "stream",
     "text": [
      "{'Black Coffee': 'Bitter', 'Milk Coffee': 'Sweet', 'Cappuccino': 'foamy'}\n"
     ]
    }
   ],
   "source": [
    "print(coffee_types)"
   ]
  },
  {
   "cell_type": "markdown",
   "id": "47bb3bb1-47f1-4929-bed6-d02953c34bd8",
   "metadata": {},
   "source": [
    "### .popitem()\n",
    "#### popitem() method in Python removes and returns the last key-value pair from the dictionary"
   ]
  },
  {
   "cell_type": "code",
   "execution_count": 51,
   "id": "1a004d71-0ead-4cec-9ff6-ac37b18bff63",
   "metadata": {},
   "outputs": [
    {
     "data": {
      "text/plain": [
       "('Cappuccino', 'foamy')"
      ]
     },
     "execution_count": 51,
     "metadata": {},
     "output_type": "execute_result"
    }
   ],
   "source": [
    "coffee_types = {\n",
    "    'Black Coffee': 'Bitter',\n",
    "    'Milk Coffee': 'Sweet',\n",
    "    'Cappuccino': 'Foamy'\n",
    "}\n",
    "coffee_types.popitem()"
   ]
  },
  {
   "cell_type": "code",
   "execution_count": 53,
   "id": "4c6cf80e-b329-4f21-9b7a-7fad39f46ac2",
   "metadata": {},
   "outputs": [
    {
     "name": "stdout",
     "output_type": "stream",
     "text": [
      "{'Black Coffee': 'Bitter', 'Milk Coffee': 'Sweet'}\n"
     ]
    }
   ],
   "source": [
    "print(coffee_types)"
   ]
  },
  {
   "cell_type": "markdown",
   "id": "86c7d25f-7d0a-4083-8c21-1243111f9e45",
   "metadata": {},
   "source": [
    "### del\n",
    "#### 'del' keyword is used to delete a specific key-value pair from a dictionary."
   ]
  },
  {
   "cell_type": "code",
   "execution_count": 56,
   "id": "50d44a89-5cc8-43f4-9c15-762c1eaa5738",
   "metadata": {},
   "outputs": [],
   "source": [
    "coffee_types = {\n",
    "    'Black Coffee': 'Bitter',\n",
    "    'Milk Coffee': 'Sweet',\n",
    "    'Cappuccino': 'Foamy',\n",
    "    'Chocolate Coffee': 'Chocolatey'\n",
    "}\n",
    "del coffee_types['Cappuccino']"
   ]
  },
  {
   "cell_type": "code",
   "execution_count": 58,
   "id": "7881a8c8-d8df-4156-968e-61b02bc8c262",
   "metadata": {},
   "outputs": [
    {
     "name": "stdout",
     "output_type": "stream",
     "text": [
      "{'Black Coffee': 'Bitter', 'Milk Coffee': 'Sweet', 'Chocolate Coffee': 'Chocolatey'}\n"
     ]
    }
   ],
   "source": [
    "print(coffee_types)"
   ]
  },
  {
   "cell_type": "markdown",
   "id": "3f08f5bd-e58e-467b-9634-832f869e4ff1",
   "metadata": {},
   "source": [
    "### nested dictionary"
   ]
  },
  {
   "cell_type": "code",
   "execution_count": 64,
   "id": "38af452f-798f-466d-bf2e-dc080e38ebb8",
   "metadata": {},
   "outputs": [],
   "source": [
    "mbps_coffee = {\n",
    "    'coffee' : {\n",
    "        'Black Coffee' : 'unsweetened',\n",
    "        'Milk Coffee' : 'sweetTasty'\n",
    "    },\n",
    "    'chai' : \n",
    "    {\n",
    "        'Lemon' : 'sour',\n",
    "        'Ginger' : 'zesty',\n",
    "        'Masala' : 'spicy'\n",
    "    }\n",
    "}"
   ]
  },
  {
   "cell_type": "code",
   "execution_count": 66,
   "id": "60117eec-08ab-4ef8-b57b-910465f66ee8",
   "metadata": {},
   "outputs": [
    {
     "name": "stdout",
     "output_type": "stream",
     "text": [
      "{'coffee': {'Black Coffee': 'unsweetened', 'Milk Coffee': 'sweetTasty'}, 'chai': {'Lemon': 'sour', 'Ginger': 'zesty', 'Masala': 'spicy'}}\n"
     ]
    }
   ],
   "source": [
    "print(mbps_coffee)"
   ]
  },
  {
   "cell_type": "code",
   "execution_count": 69,
   "id": "7a8d3606-44a9-4857-9a30-2485764b2836",
   "metadata": {},
   "outputs": [
    {
     "data": {
      "text/plain": [
       "{'Black Coffee': 'unsweetened', 'Milk Coffee': 'sweetTasty'}"
      ]
     },
     "execution_count": 69,
     "metadata": {},
     "output_type": "execute_result"
    }
   ],
   "source": [
    "mbps_coffee.get('coffee')"
   ]
  },
  {
   "cell_type": "code",
   "execution_count": 71,
   "id": "f6dd17c8-e02f-46c2-b3af-8b5f51871bcf",
   "metadata": {},
   "outputs": [
    {
     "data": {
      "text/plain": [
       "{'Black Coffee': 'unsweetened', 'Milk Coffee': 'sweetTasty'}"
      ]
     },
     "execution_count": 71,
     "metadata": {},
     "output_type": "execute_result"
    }
   ],
   "source": [
    "mbps_coffee['coffee']"
   ]
  },
  {
   "cell_type": "code",
   "execution_count": 73,
   "id": "7a7e457f-a505-43de-8322-c55354f39864",
   "metadata": {},
   "outputs": [
    {
     "data": {
      "text/plain": [
       "'unsweetened'"
      ]
     },
     "execution_count": 73,
     "metadata": {},
     "output_type": "execute_result"
    }
   ],
   "source": [
    "mbps_coffee['coffee']['Black Coffee']"
   ]
  },
  {
   "cell_type": "markdown",
   "id": "e45e1293-ac6f-43a2-a921-b62fe3f55850",
   "metadata": {},
   "source": [
    "### dictionary comprehension "
   ]
  },
  {
   "cell_type": "code",
   "execution_count": 75,
   "id": "b5936759-b484-40b5-abfc-d2e4e1d925f0",
   "metadata": {},
   "outputs": [],
   "source": [
    "squared_num = {x : x**2 for x in range(6)}"
   ]
  },
  {
   "cell_type": "code",
   "execution_count": 77,
   "id": "e9c5cb61-3c09-4c89-b1de-0ddf481ec11c",
   "metadata": {},
   "outputs": [
    {
     "name": "stdout",
     "output_type": "stream",
     "text": [
      "{0: 0, 1: 1, 2: 4, 3: 9, 4: 16, 5: 25}\n"
     ]
    }
   ],
   "source": [
    "print(squared_num)"
   ]
  },
  {
   "cell_type": "markdown",
   "id": "ef740eb3-e5e0-401b-8362-06e12418d5d5",
   "metadata": {},
   "source": [
    "### creating a dictionary new_dict using the dict.fromkeys() method, where each key is taken from the list coffee_type, and each key is associated with the same default value 'Delicious'"
   ]
  },
  {
   "cell_type": "code",
   "execution_count": 82,
   "id": "f96f7f54-78b6-48f9-a65c-371e5c232e98",
   "metadata": {},
   "outputs": [
    {
     "name": "stdout",
     "output_type": "stream",
     "text": [
      "['Black', 'Milk', 'Chocolate']\n"
     ]
    }
   ],
   "source": [
    "coffee_type = ['Black', 'Milk', 'Chocolate']\n",
    "print(coffee_type)"
   ]
  },
  {
   "cell_type": "code",
   "execution_count": 84,
   "id": "f7e218ea-c91b-405a-b867-43754cdc7bf4",
   "metadata": {},
   "outputs": [],
   "source": [
    "default_value = 'Delicious'"
   ]
  },
  {
   "cell_type": "code",
   "execution_count": 86,
   "id": "aaebd7d2-6c52-46dd-aa37-20c7c7342ef2",
   "metadata": {},
   "outputs": [
    {
     "name": "stdout",
     "output_type": "stream",
     "text": [
      "{'Black': 'Delicious', 'Milk': 'Delicious', 'Chocolate': 'Delicious'}\n"
     ]
    }
   ],
   "source": [
    "new_dict = dict.fromkeys(coffee_type, default_value)\n",
    "print(new_dict)"
   ]
  },
  {
   "cell_type": "code",
   "execution_count": null,
   "id": "fbfb7c04-b7c8-47df-b0f5-18f1f4bc0f93",
   "metadata": {},
   "outputs": [],
   "source": []
  }
 ],
 "metadata": {
  "kernelspec": {
   "display_name": "Python 3 (ipykernel)",
   "language": "python",
   "name": "python3"
  },
  "language_info": {
   "codemirror_mode": {
    "name": "ipython",
    "version": 3
   },
   "file_extension": ".py",
   "mimetype": "text/x-python",
   "name": "python",
   "nbconvert_exporter": "python",
   "pygments_lexer": "ipython3",
   "version": "3.11.7"
  }
 },
 "nbformat": 4,
 "nbformat_minor": 5
}
