{
 "cells": [
  {
   "cell_type": "code",
   "execution_count": 1,
   "id": "d7709fb2-be9d-46a7-bb2d-b7f1182c5e8f",
   "metadata": {},
   "outputs": [],
   "source": [
    "set1 = {1, 2, 3, 4}"
   ]
  },
  {
   "cell_type": "code",
   "execution_count": 5,
   "id": "d1feccc3-01ff-4c83-bfe6-2efcca592840",
   "metadata": {},
   "outputs": [
    {
     "data": {
      "text/plain": [
       "{1, 3}"
      ]
     },
     "execution_count": 5,
     "metadata": {},
     "output_type": "execute_result"
    }
   ],
   "source": [
    "#intersection\n",
    "set1 & {1, 3}"
   ]
  },
  {
   "cell_type": "code",
   "execution_count": 7,
   "id": "88f82fe2-dc93-48ec-a2a1-0f95751b082d",
   "metadata": {},
   "outputs": [
    {
     "data": {
      "text/plain": [
       "{1, 2, 3, 4, 8}"
      ]
     },
     "execution_count": 7,
     "metadata": {},
     "output_type": "execute_result"
    }
   ],
   "source": [
    "#union\n",
    "set1 | {1, 8}"
   ]
  },
  {
   "cell_type": "code",
   "execution_count": 9,
   "id": "c4942284-f2f9-42a8-841d-1a41bd79755f",
   "metadata": {},
   "outputs": [
    {
     "data": {
      "text/plain": [
       "{1, 2, 3, 4, 5, 6, 7}"
      ]
     },
     "execution_count": 9,
     "metadata": {},
     "output_type": "execute_result"
    }
   ],
   "source": [
    "#union\n",
    "set1 | {1, 2, 5, 6, 7}"
   ]
  },
  {
   "cell_type": "code",
   "execution_count": 11,
   "id": "4af37c87-e42b-4e5e-ba53-e7c6b99aaa93",
   "metadata": {},
   "outputs": [
    {
     "data": {
      "text/plain": [
       "set()"
      ]
     },
     "execution_count": 11,
     "metadata": {},
     "output_type": "execute_result"
    }
   ],
   "source": [
    "set1 - {1, 2, 3, 4}"
   ]
  },
  {
   "cell_type": "markdown",
   "id": "38e98fd3-10ab-49b4-99e9-e01269d4995f",
   "metadata": {},
   "source": [
    "In Python, {} represents an empty dictionary, not an empty set. To create an empty set, you need to use the set() function. This is because the curly braces {} are used for dictionary literals, and an empty dictionary is represented as {}.\n",
    "#### Why set() and Not {} for Empty Set?\n",
    "\n",
    "- Curly Braces {}: In Python, curly braces are used for dictionary literals. An empty dictionary is represented as {}.\n",
    "- set() Function: To avoid ambiguity between an empty set and an empty dictionary, Python uses the set() function to create an empty set."
   ]
  },
  {
   "cell_type": "code",
   "execution_count": null,
   "id": "77a78d95-38ea-495f-b0c6-90745226ea8a",
   "metadata": {},
   "outputs": [],
   "source": []
  }
 ],
 "metadata": {
  "kernelspec": {
   "display_name": "Python 3 (ipykernel)",
   "language": "python",
   "name": "python3"
  },
  "language_info": {
   "codemirror_mode": {
    "name": "ipython",
    "version": 3
   },
   "file_extension": ".py",
   "mimetype": "text/x-python",
   "name": "python",
   "nbconvert_exporter": "python",
   "pygments_lexer": "ipython3",
   "version": "3.11.7"
  }
 },
 "nbformat": 4,
 "nbformat_minor": 5
}
