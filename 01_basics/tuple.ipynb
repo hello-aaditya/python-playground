{
 "cells": [
  {
   "cell_type": "markdown",
   "id": "b1e0866a-6434-4281-9bee-a4547d63b1a4",
   "metadata": {},
   "source": [
    "## Tuple\n",
    "### Tuple :\n",
    "\n",
    "    Tuples are immutable, meaning their elements cannot be changed after creation.\n",
    "    They are typically used to store collections of heterogeneous data (i.e., data of different types).\n",
    "    Example: my_tuple = (1, 2, 'hello', 3.14)\n",
    "\n",
    "### List :\n",
    "\n",
    "    Lists are mutable, allowing their elements to be modified after creation.\n",
    "    They are used to store collections of homogeneous data (i.e., data of the same type) or mixed types.\n",
    "    Example: my_list = [1, 2, 3, 4, 5]"
   ]
  },
  {
   "cell_type": "code",
   "execution_count": 11,
   "id": "dcc02281-c2c1-48c5-8a35-f84f15abf62d",
   "metadata": {},
   "outputs": [
    {
     "name": "stdout",
     "output_type": "stream",
     "text": [
      "('Black Coffee', 'Milk Coffee', 'Cappuccino')\n"
     ]
    }
   ],
   "source": [
    "coffee_types = ('Black Coffee', 'Milk Coffee', 'Cappuccino')\n",
    "print(coffee_types)"
   ]
  },
  {
   "cell_type": "code",
   "execution_count": 13,
   "id": "6197ccda-46b5-40fe-ad14-8ee7f432d40e",
   "metadata": {},
   "outputs": [
    {
     "data": {
      "text/plain": [
       "'Black Coffee'"
      ]
     },
     "execution_count": 13,
     "metadata": {},
     "output_type": "execute_result"
    }
   ],
   "source": [
    "coffee_types[0]"
   ]
  },
  {
   "cell_type": "code",
   "execution_count": 15,
   "id": "900ee5e0-f928-4654-9dfa-55642f6a8dac",
   "metadata": {},
   "outputs": [
    {
     "data": {
      "text/plain": [
       "'Cappuccino'"
      ]
     },
     "execution_count": 15,
     "metadata": {},
     "output_type": "execute_result"
    }
   ],
   "source": [
    "coffee_types[-1]"
   ]
  },
  {
   "cell_type": "code",
   "execution_count": 17,
   "id": "b3401c9b-5966-49c8-8af7-57f99d43b4c8",
   "metadata": {},
   "outputs": [
    {
     "data": {
      "text/plain": [
       "('Milk Coffee', 'Cappuccino')"
      ]
     },
     "execution_count": 17,
     "metadata": {},
     "output_type": "execute_result"
    }
   ],
   "source": [
    "coffee_types[1:]"
   ]
  },
  {
   "cell_type": "code",
   "execution_count": 19,
   "id": "c609a70f-1e52-44f5-92d7-bf00152fd2cc",
   "metadata": {},
   "outputs": [
    {
     "data": {
      "text/plain": [
       "('Black Coffee',)"
      ]
     },
     "execution_count": 19,
     "metadata": {},
     "output_type": "execute_result"
    }
   ],
   "source": [
    "coffee_types[:1]"
   ]
  },
  {
   "cell_type": "markdown",
   "id": "39771035-9309-4d64-b0cf-f3a6ef346d42",
   "metadata": {},
   "source": [
    "### modify an element in a tuple will result in an error "
   ]
  },
  {
   "cell_type": "code",
   "execution_count": 21,
   "id": "54af0d76-9da3-427f-a8e3-aacee1213799",
   "metadata": {},
   "outputs": [
    {
     "ename": "TypeError",
     "evalue": "'tuple' object does not support item assignment",
     "output_type": "error",
     "traceback": [
      "\u001b[1;31m---------------------------------------------------------------------------\u001b[0m",
      "\u001b[1;31mTypeError\u001b[0m                                 Traceback (most recent call last)",
      "Cell \u001b[1;32mIn[21], line 1\u001b[0m\n\u001b[1;32m----> 1\u001b[0m coffee_types[\u001b[38;5;241m0\u001b[39m] \u001b[38;5;241m=\u001b[39m \u001b[38;5;124m'\u001b[39m\u001b[38;5;124mEspresso\u001b[39m\u001b[38;5;124m'\u001b[39m\n",
      "\u001b[1;31mTypeError\u001b[0m: 'tuple' object does not support item assignment"
     ]
    }
   ],
   "source": [
    "coffee_types[0] = 'Espresso'"
   ]
  },
  {
   "cell_type": "markdown",
   "id": "3e63f584-0728-4d9f-a418-146982a078d1",
   "metadata": {},
   "source": [
    "### len() function "
   ]
  },
  {
   "cell_type": "code",
   "execution_count": 24,
   "id": "bee1cc94-d134-48b9-baee-81a64708d45b",
   "metadata": {},
   "outputs": [
    {
     "name": "stdout",
     "output_type": "stream",
     "text": [
      "3\n"
     ]
    }
   ],
   "source": [
    "print(len(coffee_types))"
   ]
  },
  {
   "cell_type": "markdown",
   "id": "c98becbc-ef04-4da3-8a6e-cab831d74c14",
   "metadata": {},
   "source": [
    "### concatenate two tuples"
   ]
  },
  {
   "cell_type": "code",
   "execution_count": 27,
   "id": "7e7cd5d9-bfbe-4d2c-ab0e-45249f8b69f2",
   "metadata": {},
   "outputs": [],
   "source": [
    "coffee_types = ('Black Coffee', 'Milk Coffee', 'Cappuccino')"
   ]
  },
  {
   "cell_type": "code",
   "execution_count": 29,
   "id": "f43a90ce-a8fb-49d7-a45b-fe6d6b62c9fa",
   "metadata": {},
   "outputs": [],
   "source": [
    "more_coffee = ('Dalgona', 'Chocolate Coffee')"
   ]
  },
  {
   "cell_type": "code",
   "execution_count": 31,
   "id": "3849de75-f8d5-40fb-84ab-2542ac30df4c",
   "metadata": {},
   "outputs": [],
   "source": [
    "all_coffee = coffee_types + more_coffee"
   ]
  },
  {
   "cell_type": "code",
   "execution_count": 33,
   "id": "e6a827bc-8c19-4e0f-af3a-ec90799ddb45",
   "metadata": {},
   "outputs": [
    {
     "name": "stdout",
     "output_type": "stream",
     "text": [
      "('Black Coffee', 'Milk Coffee', 'Cappuccino', 'Dalgona', 'Chocolate Coffee')\n"
     ]
    }
   ],
   "source": [
    "print(all_coffee)"
   ]
  },
  {
   "cell_type": "markdown",
   "id": "f6ed7923-1810-4871-9d23-98e0f2fce968",
   "metadata": {},
   "source": [
    "### .count()\n",
    "#### To count the occurrences of a specific element in a tuple"
   ]
  },
  {
   "cell_type": "code",
   "execution_count": 36,
   "id": "899909af-38dd-49b5-994b-2112923acc16",
   "metadata": {},
   "outputs": [
    {
     "data": {
      "text/plain": [
       "1"
      ]
     },
     "execution_count": 36,
     "metadata": {},
     "output_type": "execute_result"
    }
   ],
   "source": [
    "more_coffee.count('Dalgona')"
   ]
  },
  {
   "cell_type": "code",
   "execution_count": 38,
   "id": "5d2ea444-0d54-48ca-925d-618a98bbb37d",
   "metadata": {},
   "outputs": [
    {
     "data": {
      "text/plain": [
       "0"
      ]
     },
     "execution_count": 38,
     "metadata": {},
     "output_type": "execute_result"
    }
   ],
   "source": [
    "more_coffee.count('Brew')"
   ]
  },
  {
   "cell_type": "markdown",
   "id": "84d76b7c-8f49-4948-abf5-1dad6a62df7f",
   "metadata": {},
   "source": [
    "### tuple unpacking"
   ]
  },
  {
   "cell_type": "code",
   "execution_count": 42,
   "id": "d1908dca-874b-48a8-a280-40b53a3ec594",
   "metadata": {},
   "outputs": [],
   "source": [
    "coffee_types = ('Black Coffee', 'Milk Coffee', 'Cappuccino')"
   ]
  },
  {
   "cell_type": "code",
   "execution_count": 44,
   "id": "7f621ae8-16df-435a-a790-34a45e87af8d",
   "metadata": {},
   "outputs": [],
   "source": [
    "(Black, Chocolate, Dalgona) = coffee_types"
   ]
  },
  {
   "cell_type": "code",
   "execution_count": 46,
   "id": "ff359e02-8602-491e-bccc-90b1fd03c467",
   "metadata": {},
   "outputs": [
    {
     "name": "stdout",
     "output_type": "stream",
     "text": [
      "Black Coffee\n"
     ]
    }
   ],
   "source": [
    "print(Black)"
   ]
  },
  {
   "cell_type": "code",
   "execution_count": 50,
   "id": "e24e89c1-44b8-444b-9020-d26cb2fd98a0",
   "metadata": {},
   "outputs": [
    {
     "name": "stdout",
     "output_type": "stream",
     "text": [
      "Milk Coffee\n"
     ]
    }
   ],
   "source": [
    "print(Chocolate)"
   ]
  },
  {
   "cell_type": "code",
   "execution_count": null,
   "id": "a5dd2484-65ba-4892-92ae-d2b580cbc979",
   "metadata": {},
   "outputs": [],
   "source": []
  }
 ],
 "metadata": {
  "kernelspec": {
   "display_name": "Python 3 (ipykernel)",
   "language": "python",
   "name": "python3"
  },
  "language_info": {
   "codemirror_mode": {
    "name": "ipython",
    "version": 3
   },
   "file_extension": ".py",
   "mimetype": "text/x-python",
   "name": "python",
   "nbconvert_exporter": "python",
   "pygments_lexer": "ipython3",
   "version": "3.11.7"
  }
 },
 "nbformat": 4,
 "nbformat_minor": 5
}
