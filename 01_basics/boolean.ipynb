{
 "cells": [
  {
   "cell_type": "code",
   "execution_count": 1,
   "id": "e6bcd1e8-c1a6-40d3-ac0b-020f0aac81ab",
   "metadata": {},
   "outputs": [
    {
     "data": {
      "text/plain": [
       "bool"
      ]
     },
     "execution_count": 1,
     "metadata": {},
     "output_type": "execute_result"
    }
   ],
   "source": [
    "type(True)"
   ]
  },
  {
   "cell_type": "code",
   "execution_count": 3,
   "id": "c44d4e47-7a46-4e57-9a4a-01ac4c4cfdaa",
   "metadata": {},
   "outputs": [
    {
     "data": {
      "text/plain": [
       "True"
      ]
     },
     "execution_count": 3,
     "metadata": {},
     "output_type": "execute_result"
    }
   ],
   "source": [
    "True == 1"
   ]
  },
  {
   "cell_type": "code",
   "execution_count": 5,
   "id": "b4d0d667-f49c-4bbc-898f-eb3a1e2ac4b9",
   "metadata": {},
   "outputs": [
    {
     "data": {
      "text/plain": [
       "True"
      ]
     },
     "execution_count": 5,
     "metadata": {},
     "output_type": "execute_result"
    }
   ],
   "source": [
    "False == 0"
   ]
  },
  {
   "cell_type": "code",
   "execution_count": 7,
   "id": "29f4eb24-c858-4bca-9373-3f243da108de",
   "metadata": {},
   "outputs": [
    {
     "name": "stderr",
     "output_type": "stream",
     "text": [
      "<>:1: SyntaxWarning: \"is\" with a literal. Did you mean \"==\"?\n",
      "<>:1: SyntaxWarning: \"is\" with a literal. Did you mean \"==\"?\n",
      "C:\\Users\\mbps\\AppData\\Local\\Temp\\ipykernel_17700\\812578685.py:1: SyntaxWarning: \"is\" with a literal. Did you mean \"==\"?\n",
      "  True is 1\n"
     ]
    },
    {
     "data": {
      "text/plain": [
       "False"
      ]
     },
     "execution_count": 7,
     "metadata": {},
     "output_type": "execute_result"
    }
   ],
   "source": [
    "True is 1"
   ]
  },
  {
   "cell_type": "markdown",
   "id": "f2f39abc-9096-449b-b9a2-4f2a77cb1ed3",
   "metadata": {},
   "source": [
    "#### Evaluating True is 1\n",
    "\n",
    "- True is a built-in constant in Python representing the boolean value True.\n",
    "- 1 is an integer.\n",
    "\n",
    "When you write True is 1, Python checks if the object True and the object 1 are the same object in memory. Since True and 1 are not the same type of object and do not have the same memory address, the expression evaluates to False."
   ]
  },
  {
   "cell_type": "code",
   "execution_count": 9,
   "id": "aa1daf33-05b4-47ff-9e74-a4486c4f7495",
   "metadata": {},
   "outputs": [
    {
     "data": {
      "text/plain": [
       "5"
      ]
     },
     "execution_count": 9,
     "metadata": {},
     "output_type": "execute_result"
    }
   ],
   "source": [
    "True + 4"
   ]
  },
  {
   "cell_type": "code",
   "execution_count": 11,
   "id": "d4e721db-668f-44ad-9879-ca38b9a722ff",
   "metadata": {},
   "outputs": [
    {
     "name": "stdout",
     "output_type": "stream",
     "text": [
      "2\n",
      "1\n",
      "0\n",
      "3\n",
      "0\n",
      "True\n",
      "True\n"
     ]
    }
   ],
   "source": [
    "print(True + True)  # Output: 2\n",
    "print(True + False)  # Output: 1\n",
    "print(False + False)  # Output: 0\n",
    "\n",
    "print(3 * True)  # Output: 3\n",
    "print(10 * False)  # Output: 0\n",
    "\n",
    "print(True == 1)  # Output: True\n",
    "print(False == 0)  # Output: True\n"
   ]
  },
  {
   "cell_type": "code",
   "execution_count": null,
   "id": "9a66387b-4cbd-4e82-8a15-ec2bf099009f",
   "metadata": {},
   "outputs": [],
   "source": []
  }
 ],
 "metadata": {
  "kernelspec": {
   "display_name": "Python 3 (ipykernel)",
   "language": "python",
   "name": "python3"
  },
  "language_info": {
   "codemirror_mode": {
    "name": "ipython",
    "version": 3
   },
   "file_extension": ".py",
   "mimetype": "text/x-python",
   "name": "python",
   "nbconvert_exporter": "python",
   "pygments_lexer": "ipython3",
   "version": "3.11.7"
  }
 },
 "nbformat": 4,
 "nbformat_minor": 5
}
